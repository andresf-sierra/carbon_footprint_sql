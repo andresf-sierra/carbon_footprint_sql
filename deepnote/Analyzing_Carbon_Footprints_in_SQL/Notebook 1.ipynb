{
  "cells": [
    {
      "cell_type": "markdown",
      "source": "# Analyzing Carbon Footprints in SQL",
      "metadata": {
        "cell_id": "6f8da43065364fa88309d08ce83bf27a",
        "deepnote_cell_type": "markdown"
      }
    },
    {
      "cell_type": "markdown",
      "source": "The dataset used here is publicly available on [**nature.com**](https://www.nature.com/articles/s41597-022-01178-9) and come from scientific article ***\"The Carbon Catalogue, carbon footprints of 866 commercial products from 8 industry sectors and 5 continents\"***.\n\nDataset stores product carbon footprints (PCFs) for various companies. PCFs are the greenhouse gas emissions attributable to a given product, measured in CO2e (carbon dioxide equivalent).\n\n*Greenhouse gas emissions attributable to products—from food to sneakers to appliances—make up more than 75% of global emissions.*",
      "metadata": {
        "cell_id": "1415cd0f46a147c4aae1cd0d9f368464",
        "deepnote_cell_type": "markdown"
      }
    },
    {
      "cell_type": "code",
      "source": "df_1 = _deepnote_execute_sql('SELECT *\\nFROM product_emissions;', 'SQL_15CDD52D_0ED5_419C_8B5D_8ED8AADF2ABF', audit_sql_comment='')\ndf_1",
      "metadata": {
        "cell_id": "a58eccdc8b2c48b1b89c46e4715aeff5",
        "source_hash": "85785e2",
        "output_cleared": false,
        "execution_start": 1685235255375,
        "execution_millis": 802,
        "sql_integration_id": "15cdd52d-0ed5-419c-8b5d-8ed8aadf2abf",
        "deepnote_table_state": {
          "sortBy": [],
          "filters": [],
          "pageSize": 10,
          "pageIndex": 82
        },
        "deepnote_table_loading": false,
        "deepnote_variable_name": "df_1",
        "deepnote_to_be_reexecuted": false,
        "deepnote_cell_type": "sql",
        "deepnote_sql_source": "SELECT *\nFROM product_emissions;"
      },
      "outputs": [
        {
          "data": {
            "application/vnd.deepnote.sql-output-metadata+json": {
              "status": "success_no_cache",
              "size_in_bytes": 580009
            }
          },
          "metadata": {},
          "output_type": "display_data"
        },
        {
          "output_type": "execute_result",
          "execution_count": 1,
          "data": {
            "application/vnd.deepnote.dataframe.v3+json": {
              "column_count": 11,
              "row_count": 866,
              "columns": [
                {
                  "name": "id",
                  "dtype": "object",
                  "stats": {
                    "unique_count": 866,
                    "nan_count": 0,
                    "categories": [
                      {
                        "name": "10056-1-2014",
                        "count": 1
                      },
                      {
                        "name": "10056-1-2015",
                        "count": 1
                      },
                      {
                        "name": "864 others",
                        "count": 864
                      }
                    ]
                  }
                },
                {
                  "name": "year",
                  "dtype": "int64",
                  "stats": {
                    "unique_count": 5,
                    "nan_count": 0,
                    "min": "2013",
                    "max": "2017",
                    "histogram": [
                      {
                        "bin_start": 2013,
                        "bin_end": 2013.4,
                        "count": 179
                      },
                      {
                        "bin_start": 2013.4,
                        "bin_end": 2013.8,
                        "count": 0
                      },
                      {
                        "bin_start": 2013.8,
                        "bin_end": 2014.2,
                        "count": 190
                      },
                      {
                        "bin_start": 2014.2,
                        "bin_end": 2014.6,
                        "count": 0
                      },
                      {
                        "bin_start": 2014.6,
                        "bin_end": 2015,
                        "count": 0
                      },
                      {
                        "bin_start": 2015,
                        "bin_end": 2015.4,
                        "count": 217
                      },
                      {
                        "bin_start": 2015.4,
                        "bin_end": 2015.8,
                        "count": 0
                      },
                      {
                        "bin_start": 2015.8,
                        "bin_end": 2016.2,
                        "count": 218
                      },
                      {
                        "bin_start": 2016.2,
                        "bin_end": 2016.6,
                        "count": 0
                      },
                      {
                        "bin_start": 2016.6,
                        "bin_end": 2017,
                        "count": 62
                      }
                    ]
                  }
                },
                {
                  "name": "product_name",
                  "dtype": "object",
                  "stats": {
                    "unique_count": 672,
                    "nan_count": 0,
                    "categories": [
                      {
                        "name": "ColorQube 8900",
                        "count": 4
                      },
                      {
                        "name": "Tetra Brik® Aseptic Slim 200ml",
                        "count": 4
                      },
                      {
                        "name": "670 others",
                        "count": 858
                      }
                    ]
                  }
                },
                {
                  "name": "company",
                  "dtype": "object",
                  "stats": {
                    "unique_count": 145,
                    "nan_count": 0,
                    "categories": [
                      {
                        "name": "Daimler AG",
                        "count": 37
                      },
                      {
                        "name": "Steelcase",
                        "count": 36
                      },
                      {
                        "name": "143 others",
                        "count": 793
                      }
                    ]
                  }
                },
                {
                  "name": "country",
                  "dtype": "object",
                  "stats": {
                    "unique_count": 28,
                    "nan_count": 0,
                    "categories": [
                      {
                        "name": "USA",
                        "count": 305
                      },
                      {
                        "name": "Japan",
                        "count": 110
                      },
                      {
                        "name": "26 others",
                        "count": 451
                      }
                    ]
                  }
                },
                {
                  "name": "industry_group",
                  "dtype": "object",
                  "stats": {
                    "unique_count": 30,
                    "nan_count": 0,
                    "categories": [
                      {
                        "name": "Technology Hardware & Equipment",
                        "count": 195
                      },
                      {
                        "name": "Materials",
                        "count": 161
                      },
                      {
                        "name": "28 others",
                        "count": 510
                      }
                    ]
                  }
                },
                {
                  "name": "weight_kg",
                  "dtype": "float64",
                  "stats": {
                    "unique_count": 340,
                    "nan_count": 0,
                    "min": "0.00127018044",
                    "max": "600000.0",
                    "histogram": [
                      {
                        "bin_start": 0.00127018044,
                        "bin_end": 60000.00114316239,
                        "count": 861
                      },
                      {
                        "bin_start": 60000.00114316239,
                        "bin_end": 120000.00101614435,
                        "count": 0
                      },
                      {
                        "bin_start": 120000.00101614435,
                        "bin_end": 180000.00088912633,
                        "count": 1
                      },
                      {
                        "bin_start": 180000.00088912633,
                        "bin_end": 240000.00076210828,
                        "count": 0
                      },
                      {
                        "bin_start": 240000.00076210828,
                        "bin_end": 300000.0006350902,
                        "count": 0
                      },
                      {
                        "bin_start": 300000.0006350902,
                        "bin_end": 360000.0005080722,
                        "count": 0
                      },
                      {
                        "bin_start": 360000.0005080722,
                        "bin_end": 420000.0003810541,
                        "count": 2
                      },
                      {
                        "bin_start": 420000.0003810541,
                        "bin_end": 480000.0002540361,
                        "count": 0
                      },
                      {
                        "bin_start": 480000.0002540361,
                        "bin_end": 540000.0001270181,
                        "count": 0
                      },
                      {
                        "bin_start": 540000.0001270181,
                        "bin_end": 600000,
                        "count": 2
                      }
                    ]
                  }
                },
                {
                  "name": "carbon_footprint_pcf",
                  "dtype": "float64",
                  "stats": {
                    "unique_count": 626,
                    "nan_count": 0,
                    "min": "0.0004",
                    "max": "3718044.0",
                    "histogram": [
                      {
                        "bin_start": 0.0004,
                        "bin_end": 371804.40036,
                        "count": 862
                      },
                      {
                        "bin_start": 371804.40036,
                        "bin_end": 743608.80032,
                        "count": 0
                      },
                      {
                        "bin_start": 743608.80032,
                        "bin_end": 1115413.20028,
                        "count": 0
                      },
                      {
                        "bin_start": 1115413.20028,
                        "bin_end": 1487217.60024,
                        "count": 1
                      },
                      {
                        "bin_start": 1487217.60024,
                        "bin_end": 1859022.0002000001,
                        "count": 1
                      },
                      {
                        "bin_start": 1859022.0002000001,
                        "bin_end": 2230826.4001599997,
                        "count": 0
                      },
                      {
                        "bin_start": 2230826.4001599997,
                        "bin_end": 2602630.80012,
                        "count": 0
                      },
                      {
                        "bin_start": 2602630.80012,
                        "bin_end": 2974435.20008,
                        "count": 0
                      },
                      {
                        "bin_start": 2974435.20008,
                        "bin_end": 3346239.60004,
                        "count": 1
                      },
                      {
                        "bin_start": 3346239.60004,
                        "bin_end": 3718044,
                        "count": 1
                      }
                    ]
                  }
                },
                {
                  "name": "upstream_percent_total_pcf",
                  "dtype": "object",
                  "stats": {
                    "unique_count": 338,
                    "nan_count": 0,
                    "categories": [
                      {
                        "name": "N/a (product with insufficient stage-level data)",
                        "count": 445
                      },
                      {
                        "name": "87.01%",
                        "count": 6
                      },
                      {
                        "name": "336 others",
                        "count": 415
                      }
                    ]
                  }
                },
                {
                  "name": "operations_percent_total_pcf",
                  "dtype": "object",
                  "stats": {
                    "unique_count": 317,
                    "nan_count": 0,
                    "categories": [
                      {
                        "name": "N/a (product with insufficient stage-level data)",
                        "count": 445
                      },
                      {
                        "name": "12.99%",
                        "count": 6
                      },
                      {
                        "name": "315 others",
                        "count": 415
                      }
                    ]
                  }
                },
                {
                  "name": "downstream_percent_total_pcf",
                  "dtype": "object",
                  "stats": {
                    "unique_count": 276,
                    "nan_count": 0,
                    "categories": [
                      {
                        "name": "N/a (product with insufficient stage-level data)",
                        "count": 445
                      },
                      {
                        "name": "0.00%",
                        "count": 80
                      },
                      {
                        "name": "274 others",
                        "count": 341
                      }
                    ]
                  }
                },
                {
                  "name": "_deepnote_index_column",
                  "dtype": "int64"
                }
              ],
              "rows": [
                {
                  "id": "10056-1-2014",
                  "year": "2014",
                  "product_name": "Frosted Flakes(R) Cereal",
                  "company": "Kellogg Company",
                  "country": "USA",
                  "industry_group": "Food, Beverage & Tobacco",
                  "weight_kg": "0.7485",
                  "carbon_footprint_pcf": "2.0",
                  "upstream_percent_total_pcf": "57.50%",
                  "operations_percent_total_pcf": "30.00%",
                  "downstream_percent_total_pcf": "12.50%",
                  "_deepnote_index_column": "0"
                },
                {
                  "id": "10056-1-2015",
                  "year": "2015",
                  "product_name": "Frosted Flakes, 23 oz, produced in Lancaster, PA (one carton)",
                  "company": "Kellogg Company",
                  "country": "USA",
                  "industry_group": "Food & Beverage Processing",
                  "weight_kg": "0.7485",
                  "carbon_footprint_pcf": "2.0",
                  "upstream_percent_total_pcf": "57.50%",
                  "operations_percent_total_pcf": "30.00%",
                  "downstream_percent_total_pcf": "12.50%",
                  "_deepnote_index_column": "1"
                },
                {
                  "id": "10222-1-2013",
                  "year": "2013",
                  "product_name": "Office Chair",
                  "company": "KNOLL INC",
                  "country": "USA",
                  "industry_group": "Capital Goods",
                  "weight_kg": "20.68",
                  "carbon_footprint_pcf": "72.54",
                  "upstream_percent_total_pcf": "80.63%",
                  "operations_percent_total_pcf": "17.36%",
                  "downstream_percent_total_pcf": "2.01%",
                  "_deepnote_index_column": "2"
                },
                {
                  "id": "10261-1-2017",
                  "year": "2017",
                  "product_name": "Multifunction Printers",
                  "company": "Konica Minolta, Inc.",
                  "country": "Japan",
                  "industry_group": "Technology Hardware & Equipment",
                  "weight_kg": "110.0",
                  "carbon_footprint_pcf": "1488.0",
                  "upstream_percent_total_pcf": "30.65%",
                  "operations_percent_total_pcf": "5.51%",
                  "downstream_percent_total_pcf": "63.84%",
                  "_deepnote_index_column": "3"
                },
                {
                  "id": "10261-2-2017",
                  "year": "2017",
                  "product_name": "Multifunction Printers",
                  "company": "Konica Minolta, Inc.",
                  "country": "Japan",
                  "industry_group": "Technology Hardware & Equipment",
                  "weight_kg": "110.0",
                  "carbon_footprint_pcf": "1818.0",
                  "upstream_percent_total_pcf": "25.08%",
                  "operations_percent_total_pcf": "4.51%",
                  "downstream_percent_total_pcf": "70.41%",
                  "_deepnote_index_column": "4"
                },
                {
                  "id": "10261-3-2017",
                  "year": "2017",
                  "product_name": "Multifunction Printers",
                  "company": "Konica Minolta, Inc.",
                  "country": "Japan",
                  "industry_group": "Technology Hardware & Equipment",
                  "weight_kg": "110.0",
                  "carbon_footprint_pcf": "2274.0",
                  "upstream_percent_total_pcf": "20.05%",
                  "operations_percent_total_pcf": "3.61%",
                  "downstream_percent_total_pcf": "76.34%",
                  "_deepnote_index_column": "5"
                },
                {
                  "id": "10324-1-2016",
                  "year": "2016",
                  "product_name": "KURALON  fiber",
                  "company": "Kuraray Co., Ltd.",
                  "country": "Japan",
                  "industry_group": "Materials",
                  "weight_kg": "1500.0",
                  "carbon_footprint_pcf": "10000.0",
                  "upstream_percent_total_pcf": "N/a (product with insufficient stage-level data)",
                  "operations_percent_total_pcf": "N/a (product with insufficient stage-level data)",
                  "downstream_percent_total_pcf": "N/a (product with insufficient stage-level data)",
                  "_deepnote_index_column": "6"
                },
                {
                  "id": "10418-1-2013",
                  "year": "2013",
                  "product_name": "Portland Cement",
                  "company": "Lafarge S.A.",
                  "country": "France",
                  "industry_group": "Materials",
                  "weight_kg": "1000.0",
                  "carbon_footprint_pcf": "1102.0",
                  "upstream_percent_total_pcf": "N/a (product with insufficient stage-level data)",
                  "operations_percent_total_pcf": "N/a (product with insufficient stage-level data)",
                  "downstream_percent_total_pcf": "N/a (product with insufficient stage-level data)",
                  "_deepnote_index_column": "7"
                },
                {
                  "id": "10661-10-2014",
                  "year": "2014",
                  "product_name": "Regular Straight 505® Jeans – Steel (Water<Less™)",
                  "company": "Levi Strauss & Co.",
                  "country": "USA",
                  "industry_group": "Consumer Durables & Apparel",
                  "weight_kg": "0.7665",
                  "carbon_footprint_pcf": "15.0",
                  "upstream_percent_total_pcf": "N/a (product with insufficient stage-level data)",
                  "operations_percent_total_pcf": "N/a (product with insufficient stage-level data)",
                  "downstream_percent_total_pcf": "N/a (product with insufficient stage-level data)",
                  "_deepnote_index_column": "8"
                },
                {
                  "id": "10661-10-2015",
                  "year": "2015",
                  "product_name": "Regular Straight 505® Jeans – Steel (Water<Less™)",
                  "company": "Levi Strauss & Co.",
                  "country": "USA",
                  "industry_group": "Textiles, Apparel, Footwear and Luxury Goods",
                  "weight_kg": "0.7665",
                  "carbon_footprint_pcf": "15.0",
                  "upstream_percent_total_pcf": "N/a (product with insufficient stage-level data)",
                  "operations_percent_total_pcf": "N/a (product with insufficient stage-level data)",
                  "downstream_percent_total_pcf": "N/a (product with insufficient stage-level data)",
                  "_deepnote_index_column": "9"
                }
              ]
            },
            "text/plain": "               id  year                                       product_name  \\\n0    10056-1-2014  2014                           Frosted Flakes(R) Cereal   \n1    10056-1-2015  2015  Frosted Flakes, 23 oz, produced in Lancaster, ...   \n2    10222-1-2013  2013                                       Office Chair   \n3    10261-1-2017  2017                             Multifunction Printers   \n4    10261-2-2017  2017                             Multifunction Printers   \n..            ...   ...                                                ...   \n861   9298-2-2014  2014                                        Desktop CPU   \n862   9298-3-2013  2013                                         Mobile CPU   \n863   9298-3-2014  2014                                         Mobile CPU   \n864   9792-1-2017  2017  Complete catalyst system for diesel-powered pa...   \n865   9792-2-2017  2017  Three-way Catalyst for gasoline-powered passen...   \n\n                  company         country  \\\n0         Kellogg Company             USA   \n1         Kellogg Company             USA   \n2               KNOLL INC             USA   \n3    Konica Minolta, Inc.           Japan   \n4    Konica Minolta, Inc.           Japan   \n..                    ...             ...   \n861     Intel Corporation             USA   \n862     Intel Corporation             USA   \n863     Intel Corporation             USA   \n864       Johnson Matthey  United Kingdom   \n865       Johnson Matthey  United Kingdom   \n\n                               industry_group   weight_kg  \\\n0                    Food, Beverage & Tobacco    0.748500   \n1                  Food & Beverage Processing    0.748500   \n2                               Capital Goods   20.680000   \n3             Technology Hardware & Equipment  110.000000   \n4             Technology Hardware & Equipment  110.000000   \n..                                        ...         ...   \n861  Semiconductors & Semiconductor Equipment    0.408233   \n862           Technology Hardware & Equipment    0.408233   \n863  Semiconductors & Semiconductor Equipment    0.408233   \n864                                 Materials    2.000000   \n865                                 Materials    2.000000   \n\n     carbon_footprint_pcf                        upstream_percent_total_pcf  \\\n0                    2.00                                            57.50%   \n1                    2.00                                            57.50%   \n2                   72.54                                            80.63%   \n3                 1488.00                                            30.65%   \n4                 1818.00                                            25.08%   \n..                    ...                                               ...   \n861                 14.00                                            32.14%   \n862                  7.00                                            28.57%   \n863                  7.00                                            31.43%   \n864                188.00  N/a (product with insufficient stage-level data)   \n865                 63.00  N/a (product with insufficient stage-level data)   \n\n                         operations_percent_total_pcf  \\\n0                                              30.00%   \n1                                              30.00%   \n2                                              17.36%   \n3                                               5.51%   \n4                                               4.51%   \n..                                                ...   \n861                                            54.29%   \n862                                            71.43%   \n863                                            54.29%   \n864  N/a (product with insufficient stage-level data)   \n865  N/a (product with insufficient stage-level data)   \n\n                         downstream_percent_total_pcf  \n0                                              12.50%  \n1                                              12.50%  \n2                                               2.01%  \n3                                              63.84%  \n4                                              70.41%  \n..                                                ...  \n861                                            13.57%  \n862                                             0.00%  \n863                                            14.29%  \n864  N/a (product with insufficient stage-level data)  \n865  N/a (product with insufficient stage-level data)  \n\n[866 rows x 11 columns]",
            "text/html": "<div>\n<style scoped>\n    .dataframe tbody tr th:only-of-type {\n        vertical-align: middle;\n    }\n\n    .dataframe tbody tr th {\n        vertical-align: top;\n    }\n\n    .dataframe thead th {\n        text-align: right;\n    }\n</style>\n<table border=\"1\" class=\"dataframe\">\n  <thead>\n    <tr style=\"text-align: right;\">\n      <th></th>\n      <th>id</th>\n      <th>year</th>\n      <th>product_name</th>\n      <th>company</th>\n      <th>country</th>\n      <th>industry_group</th>\n      <th>weight_kg</th>\n      <th>carbon_footprint_pcf</th>\n      <th>upstream_percent_total_pcf</th>\n      <th>operations_percent_total_pcf</th>\n      <th>downstream_percent_total_pcf</th>\n    </tr>\n  </thead>\n  <tbody>\n    <tr>\n      <th>0</th>\n      <td>10056-1-2014</td>\n      <td>2014</td>\n      <td>Frosted Flakes(R) Cereal</td>\n      <td>Kellogg Company</td>\n      <td>USA</td>\n      <td>Food, Beverage &amp; Tobacco</td>\n      <td>0.748500</td>\n      <td>2.00</td>\n      <td>57.50%</td>\n      <td>30.00%</td>\n      <td>12.50%</td>\n    </tr>\n    <tr>\n      <th>1</th>\n      <td>10056-1-2015</td>\n      <td>2015</td>\n      <td>Frosted Flakes, 23 oz, produced in Lancaster, ...</td>\n      <td>Kellogg Company</td>\n      <td>USA</td>\n      <td>Food &amp; Beverage Processing</td>\n      <td>0.748500</td>\n      <td>2.00</td>\n      <td>57.50%</td>\n      <td>30.00%</td>\n      <td>12.50%</td>\n    </tr>\n    <tr>\n      <th>2</th>\n      <td>10222-1-2013</td>\n      <td>2013</td>\n      <td>Office Chair</td>\n      <td>KNOLL INC</td>\n      <td>USA</td>\n      <td>Capital Goods</td>\n      <td>20.680000</td>\n      <td>72.54</td>\n      <td>80.63%</td>\n      <td>17.36%</td>\n      <td>2.01%</td>\n    </tr>\n    <tr>\n      <th>3</th>\n      <td>10261-1-2017</td>\n      <td>2017</td>\n      <td>Multifunction Printers</td>\n      <td>Konica Minolta, Inc.</td>\n      <td>Japan</td>\n      <td>Technology Hardware &amp; Equipment</td>\n      <td>110.000000</td>\n      <td>1488.00</td>\n      <td>30.65%</td>\n      <td>5.51%</td>\n      <td>63.84%</td>\n    </tr>\n    <tr>\n      <th>4</th>\n      <td>10261-2-2017</td>\n      <td>2017</td>\n      <td>Multifunction Printers</td>\n      <td>Konica Minolta, Inc.</td>\n      <td>Japan</td>\n      <td>Technology Hardware &amp; Equipment</td>\n      <td>110.000000</td>\n      <td>1818.00</td>\n      <td>25.08%</td>\n      <td>4.51%</td>\n      <td>70.41%</td>\n    </tr>\n    <tr>\n      <th>...</th>\n      <td>...</td>\n      <td>...</td>\n      <td>...</td>\n      <td>...</td>\n      <td>...</td>\n      <td>...</td>\n      <td>...</td>\n      <td>...</td>\n      <td>...</td>\n      <td>...</td>\n      <td>...</td>\n    </tr>\n    <tr>\n      <th>861</th>\n      <td>9298-2-2014</td>\n      <td>2014</td>\n      <td>Desktop CPU</td>\n      <td>Intel Corporation</td>\n      <td>USA</td>\n      <td>Semiconductors &amp; Semiconductor Equipment</td>\n      <td>0.408233</td>\n      <td>14.00</td>\n      <td>32.14%</td>\n      <td>54.29%</td>\n      <td>13.57%</td>\n    </tr>\n    <tr>\n      <th>862</th>\n      <td>9298-3-2013</td>\n      <td>2013</td>\n      <td>Mobile CPU</td>\n      <td>Intel Corporation</td>\n      <td>USA</td>\n      <td>Technology Hardware &amp; Equipment</td>\n      <td>0.408233</td>\n      <td>7.00</td>\n      <td>28.57%</td>\n      <td>71.43%</td>\n      <td>0.00%</td>\n    </tr>\n    <tr>\n      <th>863</th>\n      <td>9298-3-2014</td>\n      <td>2014</td>\n      <td>Mobile CPU</td>\n      <td>Intel Corporation</td>\n      <td>USA</td>\n      <td>Semiconductors &amp; Semiconductor Equipment</td>\n      <td>0.408233</td>\n      <td>7.00</td>\n      <td>31.43%</td>\n      <td>54.29%</td>\n      <td>14.29%</td>\n    </tr>\n    <tr>\n      <th>864</th>\n      <td>9792-1-2017</td>\n      <td>2017</td>\n      <td>Complete catalyst system for diesel-powered pa...</td>\n      <td>Johnson Matthey</td>\n      <td>United Kingdom</td>\n      <td>Materials</td>\n      <td>2.000000</td>\n      <td>188.00</td>\n      <td>N/a (product with insufficient stage-level data)</td>\n      <td>N/a (product with insufficient stage-level data)</td>\n      <td>N/a (product with insufficient stage-level data)</td>\n    </tr>\n    <tr>\n      <th>865</th>\n      <td>9792-2-2017</td>\n      <td>2017</td>\n      <td>Three-way Catalyst for gasoline-powered passen...</td>\n      <td>Johnson Matthey</td>\n      <td>United Kingdom</td>\n      <td>Materials</td>\n      <td>2.000000</td>\n      <td>63.00</td>\n      <td>N/a (product with insufficient stage-level data)</td>\n      <td>N/a (product with insufficient stage-level data)</td>\n      <td>N/a (product with insufficient stage-level data)</td>\n    </tr>\n  </tbody>\n</table>\n<p>866 rows × 11 columns</p>\n</div>"
          },
          "metadata": {}
        }
      ],
      "execution_count": 1
    },
    {
      "cell_type": "markdown",
      "source": "## 1. Coca-Cola's Emissions\n\nSo, Coke is actually made up of multiple companies around the globe, so we'll make sure our query returns data for any company name that starts with \"Coca-Cola\". Coke used to report for every single different product it has, so we will limit the results to six.",
      "metadata": {
        "cell_id": "3a9722ce5e2a41f7bd1bb10a3fa0437a",
        "deepnote_cell_type": "markdown"
      }
    },
    {
      "cell_type": "markdown",
      "source": "**Task:** \n- Select all fields from the `product_emissions` table where the company name begins with \"Coca-Cola\", limiting to the first six results.\n",
      "metadata": {
        "cell_id": "6e6ea38cd20849b7ac1d2d62ef3f4d2f",
        "deepnote_cell_type": "markdown"
      }
    },
    {
      "cell_type": "code",
      "source": "df_2 = _deepnote_execute_sql('SELECT *\\nFROM product_emissions\\nWHERE company LIKE \\'Coca-Cola%\\'\\nLIMIT 6;', 'SQL_15CDD52D_0ED5_419C_8B5D_8ED8AADF2ABF', audit_sql_comment='')\ndf_2",
      "metadata": {
        "cell_id": "544474f09a9342cca8fe13b3294ba336",
        "source_hash": "fcda8ef9",
        "execution_start": 1685235256202,
        "execution_millis": 169,
        "sql_integration_id": "15cdd52d-0ed5-419c-8b5d-8ed8aadf2abf",
        "deepnote_variable_name": "df_2",
        "deepnote_to_be_reexecuted": false,
        "deepnote_cell_type": "sql",
        "deepnote_sql_source": "SELECT *\nFROM product_emissions\nWHERE company LIKE 'Coca-Cola%'\nLIMIT 6;"
      },
      "outputs": [
        {
          "data": {
            "application/vnd.deepnote.sql-output-metadata+json": {
              "status": "success_no_cache",
              "size_in_bytes": 3673
            }
          },
          "metadata": {},
          "output_type": "display_data"
        },
        {
          "output_type": "execute_result",
          "execution_count": 2,
          "data": {
            "application/vnd.deepnote.dataframe.v3+json": {
              "column_count": 11,
              "row_count": 6,
              "columns": [
                {
                  "name": "id",
                  "dtype": "object",
                  "stats": {
                    "unique_count": 6,
                    "nan_count": 0,
                    "categories": [
                      {
                        "name": "22710-1-2014",
                        "count": 1
                      },
                      {
                        "name": "22710-1-2015",
                        "count": 1
                      },
                      {
                        "name": "4 others",
                        "count": 4
                      }
                    ]
                  }
                },
                {
                  "name": "year",
                  "dtype": "int64",
                  "stats": {
                    "unique_count": 4,
                    "nan_count": 0,
                    "min": "2013",
                    "max": "2016",
                    "histogram": [
                      {
                        "bin_start": 2013,
                        "bin_end": 2013.3,
                        "count": 3
                      },
                      {
                        "bin_start": 2013.3,
                        "bin_end": 2013.6,
                        "count": 0
                      },
                      {
                        "bin_start": 2013.6,
                        "bin_end": 2013.9,
                        "count": 0
                      },
                      {
                        "bin_start": 2013.9,
                        "bin_end": 2014.2,
                        "count": 1
                      },
                      {
                        "bin_start": 2014.2,
                        "bin_end": 2014.5,
                        "count": 0
                      },
                      {
                        "bin_start": 2014.5,
                        "bin_end": 2014.8,
                        "count": 0
                      },
                      {
                        "bin_start": 2014.8,
                        "bin_end": 2015.1,
                        "count": 1
                      },
                      {
                        "bin_start": 2015.1,
                        "bin_end": 2015.4,
                        "count": 0
                      },
                      {
                        "bin_start": 2015.4,
                        "bin_end": 2015.7,
                        "count": 0
                      },
                      {
                        "bin_start": 2015.7,
                        "bin_end": 2016,
                        "count": 1
                      }
                    ]
                  }
                },
                {
                  "name": "product_name",
                  "dtype": "object",
                  "stats": {
                    "unique_count": 4,
                    "nan_count": 0,
                    "categories": [
                      {
                        "name": "Coca-Cola (all packaging and sizes)",
                        "count": 3
                      },
                      {
                        "name": "Coke Zero 330 ml glass bottle",
                        "count": 1
                      },
                      {
                        "name": "2 others",
                        "count": 2
                      }
                    ]
                  }
                },
                {
                  "name": "company",
                  "dtype": "object",
                  "stats": {
                    "unique_count": 2,
                    "nan_count": 0,
                    "categories": [
                      {
                        "name": "Coca-Cola HBC AG",
                        "count": 3
                      },
                      {
                        "name": "Coca-Cola Enterprises, Inc.",
                        "count": 3
                      }
                    ]
                  }
                },
                {
                  "name": "country",
                  "dtype": "object",
                  "stats": {
                    "unique_count": 2,
                    "nan_count": 0,
                    "categories": [
                      {
                        "name": "Switzerland",
                        "count": 3
                      },
                      {
                        "name": "USA",
                        "count": 3
                      }
                    ]
                  }
                },
                {
                  "name": "industry_group",
                  "dtype": "object",
                  "stats": {
                    "unique_count": 2,
                    "nan_count": 0,
                    "categories": [
                      {
                        "name": "Food, Beverage & Tobacco",
                        "count": 5
                      },
                      {
                        "name": "Food & Beverage Processing",
                        "count": 1
                      }
                    ]
                  }
                },
                {
                  "name": "weight_kg",
                  "dtype": "float64",
                  "stats": {
                    "unique_count": 3,
                    "nan_count": 0,
                    "min": "0.3",
                    "max": "1.093",
                    "histogram": [
                      {
                        "bin_start": 0.3,
                        "bin_end": 0.37929999999999997,
                        "count": 1
                      },
                      {
                        "bin_start": 0.37929999999999997,
                        "bin_end": 0.4586,
                        "count": 0
                      },
                      {
                        "bin_start": 0.4586,
                        "bin_end": 0.5379,
                        "count": 0
                      },
                      {
                        "bin_start": 0.5379,
                        "bin_end": 0.6172,
                        "count": 2
                      },
                      {
                        "bin_start": 0.6172,
                        "bin_end": 0.6964999999999999,
                        "count": 0
                      },
                      {
                        "bin_start": 0.6964999999999999,
                        "bin_end": 0.7758,
                        "count": 0
                      },
                      {
                        "bin_start": 0.7758,
                        "bin_end": 0.8551,
                        "count": 0
                      },
                      {
                        "bin_start": 0.8551,
                        "bin_end": 0.9343999999999999,
                        "count": 0
                      },
                      {
                        "bin_start": 0.9343999999999999,
                        "bin_end": 1.0137,
                        "count": 0
                      },
                      {
                        "bin_start": 1.0137,
                        "bin_end": 1.093,
                        "count": 3
                      }
                    ]
                  }
                },
                {
                  "name": "carbon_footprint_pcf",
                  "dtype": "float64",
                  "stats": {
                    "unique_count": 6,
                    "nan_count": 0,
                    "min": "0.147",
                    "max": "0.34",
                    "histogram": [
                      {
                        "bin_start": 0.147,
                        "bin_end": 0.1663,
                        "count": 2
                      },
                      {
                        "bin_start": 0.1663,
                        "bin_end": 0.1856,
                        "count": 2
                      },
                      {
                        "bin_start": 0.1856,
                        "bin_end": 0.2049,
                        "count": 0
                      },
                      {
                        "bin_start": 0.2049,
                        "bin_end": 0.2242,
                        "count": 1
                      },
                      {
                        "bin_start": 0.2242,
                        "bin_end": 0.24350000000000002,
                        "count": 0
                      },
                      {
                        "bin_start": 0.24350000000000002,
                        "bin_end": 0.26280000000000003,
                        "count": 0
                      },
                      {
                        "bin_start": 0.26280000000000003,
                        "bin_end": 0.2821,
                        "count": 0
                      },
                      {
                        "bin_start": 0.2821,
                        "bin_end": 0.3014,
                        "count": 0
                      },
                      {
                        "bin_start": 0.3014,
                        "bin_end": 0.32070000000000004,
                        "count": 0
                      },
                      {
                        "bin_start": 0.32070000000000004,
                        "bin_end": 0.34,
                        "count": 1
                      }
                    ]
                  }
                },
                {
                  "name": "upstream_percent_total_pcf",
                  "dtype": "object",
                  "stats": {
                    "unique_count": 6,
                    "nan_count": 0,
                    "categories": [
                      {
                        "name": "84.28%",
                        "count": 1
                      },
                      {
                        "name": "38.37%",
                        "count": 1
                      },
                      {
                        "name": "4 others",
                        "count": 4
                      }
                    ]
                  }
                },
                {
                  "name": "operations_percent_total_pcf",
                  "dtype": "object",
                  "stats": {
                    "unique_count": 6,
                    "nan_count": 0,
                    "categories": [
                      {
                        "name": "11.12%",
                        "count": 1
                      },
                      {
                        "name": "12.71%",
                        "count": 1
                      },
                      {
                        "name": "4 others",
                        "count": 4
                      }
                    ]
                  }
                },
                {
                  "name": "downstream_percent_total_pcf",
                  "dtype": "object",
                  "stats": {
                    "unique_count": 6,
                    "nan_count": 0,
                    "categories": [
                      {
                        "name": "4.60%",
                        "count": 1
                      },
                      {
                        "name": "48.93%",
                        "count": 1
                      },
                      {
                        "name": "4 others",
                        "count": 4
                      }
                    ]
                  }
                },
                {
                  "name": "_deepnote_index_column",
                  "dtype": "int64"
                }
              ],
              "rows": [
                {
                  "id": "22710-1-2014",
                  "year": "2014",
                  "product_name": "Coca-Cola (all packaging and sizes)",
                  "company": "Coca-Cola HBC AG",
                  "country": "Switzerland",
                  "industry_group": "Food, Beverage & Tobacco",
                  "weight_kg": "1.093",
                  "carbon_footprint_pcf": "0.1673",
                  "upstream_percent_total_pcf": "84.28%",
                  "operations_percent_total_pcf": "11.12%",
                  "downstream_percent_total_pcf": "4.60%",
                  "_deepnote_index_column": "0"
                },
                {
                  "id": "22710-1-2015",
                  "year": "2015",
                  "product_name": "Coca-Cola (all packaging and sizes)",
                  "company": "Coca-Cola HBC AG",
                  "country": "Switzerland",
                  "industry_group": "Food & Beverage Processing",
                  "weight_kg": "1.093",
                  "carbon_footprint_pcf": "0.158",
                  "upstream_percent_total_pcf": "38.37%",
                  "operations_percent_total_pcf": "12.71%",
                  "downstream_percent_total_pcf": "48.93%",
                  "_deepnote_index_column": "1"
                },
                {
                  "id": "22710-1-2016",
                  "year": "2016",
                  "product_name": "Coca-Cola (all packaging and sizes)",
                  "company": "Coca-Cola HBC AG",
                  "country": "Switzerland",
                  "industry_group": "Food, Beverage & Tobacco",
                  "weight_kg": "1.093",
                  "carbon_footprint_pcf": "0.147",
                  "upstream_percent_total_pcf": "42.17%",
                  "operations_percent_total_pcf": "10.98%",
                  "downstream_percent_total_pcf": "46.85%",
                  "_deepnote_index_column": "2"
                },
                {
                  "id": "3565-10-2013",
                  "year": "2013",
                  "product_name": "Coke Zero 330 ml glass bottle",
                  "company": "Coca-Cola Enterprises, Inc.",
                  "country": "USA",
                  "industry_group": "Food, Beverage & Tobacco",
                  "weight_kg": "0.541",
                  "carbon_footprint_pcf": "0.34",
                  "upstream_percent_total_pcf": "73.95%",
                  "operations_percent_total_pcf": "3.42%",
                  "downstream_percent_total_pcf": "22.63%",
                  "_deepnote_index_column": "3"
                },
                {
                  "id": "3565-11-2013",
                  "year": "2013",
                  "product_name": "Coke Zero 500ml PET",
                  "company": "Coca-Cola Enterprises, Inc.",
                  "country": "USA",
                  "industry_group": "Food, Beverage & Tobacco",
                  "weight_kg": "0.541",
                  "carbon_footprint_pcf": "0.22",
                  "upstream_percent_total_pcf": "52.09%",
                  "operations_percent_total_pcf": "12.32%",
                  "downstream_percent_total_pcf": "35.59%",
                  "_deepnote_index_column": "4"
                },
                {
                  "id": "3565-1-2013",
                  "year": "2013",
                  "product_name": "Coca-Cola 300ml can",
                  "company": "Coca-Cola Enterprises, Inc.",
                  "country": "USA",
                  "industry_group": "Food, Beverage & Tobacco",
                  "weight_kg": "0.3",
                  "carbon_footprint_pcf": "0.17",
                  "upstream_percent_total_pcf": "69.76%",
                  "operations_percent_total_pcf": "7.00%",
                  "downstream_percent_total_pcf": "23.24%",
                  "_deepnote_index_column": "5"
                }
              ]
            },
            "text/plain": "             id  year                         product_name  \\\n0  22710-1-2014  2014  Coca-Cola (all packaging and sizes)   \n1  22710-1-2015  2015  Coca-Cola (all packaging and sizes)   \n2  22710-1-2016  2016  Coca-Cola (all packaging and sizes)   \n3  3565-10-2013  2013        Coke Zero 330 ml glass bottle   \n4  3565-11-2013  2013                  Coke Zero 500ml PET   \n5   3565-1-2013  2013                  Coca-Cola 300ml can   \n\n                       company      country              industry_group  \\\n0             Coca-Cola HBC AG  Switzerland    Food, Beverage & Tobacco   \n1             Coca-Cola HBC AG  Switzerland  Food & Beverage Processing   \n2             Coca-Cola HBC AG  Switzerland    Food, Beverage & Tobacco   \n3  Coca-Cola Enterprises, Inc.          USA    Food, Beverage & Tobacco   \n4  Coca-Cola Enterprises, Inc.          USA    Food, Beverage & Tobacco   \n5  Coca-Cola Enterprises, Inc.          USA    Food, Beverage & Tobacco   \n\n   weight_kg  carbon_footprint_pcf upstream_percent_total_pcf  \\\n0      1.093                0.1673                     84.28%   \n1      1.093                0.1580                     38.37%   \n2      1.093                0.1470                     42.17%   \n3      0.541                0.3400                     73.95%   \n4      0.541                0.2200                     52.09%   \n5      0.300                0.1700                     69.76%   \n\n  operations_percent_total_pcf downstream_percent_total_pcf  \n0                       11.12%                        4.60%  \n1                       12.71%                       48.93%  \n2                       10.98%                       46.85%  \n3                        3.42%                       22.63%  \n4                       12.32%                       35.59%  \n5                        7.00%                       23.24%  ",
            "text/html": "<div>\n<style scoped>\n    .dataframe tbody tr th:only-of-type {\n        vertical-align: middle;\n    }\n\n    .dataframe tbody tr th {\n        vertical-align: top;\n    }\n\n    .dataframe thead th {\n        text-align: right;\n    }\n</style>\n<table border=\"1\" class=\"dataframe\">\n  <thead>\n    <tr style=\"text-align: right;\">\n      <th></th>\n      <th>id</th>\n      <th>year</th>\n      <th>product_name</th>\n      <th>company</th>\n      <th>country</th>\n      <th>industry_group</th>\n      <th>weight_kg</th>\n      <th>carbon_footprint_pcf</th>\n      <th>upstream_percent_total_pcf</th>\n      <th>operations_percent_total_pcf</th>\n      <th>downstream_percent_total_pcf</th>\n    </tr>\n  </thead>\n  <tbody>\n    <tr>\n      <th>0</th>\n      <td>22710-1-2014</td>\n      <td>2014</td>\n      <td>Coca-Cola (all packaging and sizes)</td>\n      <td>Coca-Cola HBC AG</td>\n      <td>Switzerland</td>\n      <td>Food, Beverage &amp; Tobacco</td>\n      <td>1.093</td>\n      <td>0.1673</td>\n      <td>84.28%</td>\n      <td>11.12%</td>\n      <td>4.60%</td>\n    </tr>\n    <tr>\n      <th>1</th>\n      <td>22710-1-2015</td>\n      <td>2015</td>\n      <td>Coca-Cola (all packaging and sizes)</td>\n      <td>Coca-Cola HBC AG</td>\n      <td>Switzerland</td>\n      <td>Food &amp; Beverage Processing</td>\n      <td>1.093</td>\n      <td>0.1580</td>\n      <td>38.37%</td>\n      <td>12.71%</td>\n      <td>48.93%</td>\n    </tr>\n    <tr>\n      <th>2</th>\n      <td>22710-1-2016</td>\n      <td>2016</td>\n      <td>Coca-Cola (all packaging and sizes)</td>\n      <td>Coca-Cola HBC AG</td>\n      <td>Switzerland</td>\n      <td>Food, Beverage &amp; Tobacco</td>\n      <td>1.093</td>\n      <td>0.1470</td>\n      <td>42.17%</td>\n      <td>10.98%</td>\n      <td>46.85%</td>\n    </tr>\n    <tr>\n      <th>3</th>\n      <td>3565-10-2013</td>\n      <td>2013</td>\n      <td>Coke Zero 330 ml glass bottle</td>\n      <td>Coca-Cola Enterprises, Inc.</td>\n      <td>USA</td>\n      <td>Food, Beverage &amp; Tobacco</td>\n      <td>0.541</td>\n      <td>0.3400</td>\n      <td>73.95%</td>\n      <td>3.42%</td>\n      <td>22.63%</td>\n    </tr>\n    <tr>\n      <th>4</th>\n      <td>3565-11-2013</td>\n      <td>2013</td>\n      <td>Coke Zero 500ml PET</td>\n      <td>Coca-Cola Enterprises, Inc.</td>\n      <td>USA</td>\n      <td>Food, Beverage &amp; Tobacco</td>\n      <td>0.541</td>\n      <td>0.2200</td>\n      <td>52.09%</td>\n      <td>12.32%</td>\n      <td>35.59%</td>\n    </tr>\n    <tr>\n      <th>5</th>\n      <td>3565-1-2013</td>\n      <td>2013</td>\n      <td>Coca-Cola 300ml can</td>\n      <td>Coca-Cola Enterprises, Inc.</td>\n      <td>USA</td>\n      <td>Food, Beverage &amp; Tobacco</td>\n      <td>0.300</td>\n      <td>0.1700</td>\n      <td>69.76%</td>\n      <td>7.00%</td>\n      <td>23.24%</td>\n    </tr>\n  </tbody>\n</table>\n</div>"
          },
          "metadata": {}
        }
      ],
      "execution_count": 2
    },
    {
      "cell_type": "markdown",
      "source": "### Remember:\n- **Upstream emissions:** emissions that occur before the company's own operations such as emissions created by manufacturing bottles that Coke buys from suppliers\n- **Operations emissions:** emissions that the company creates directly, such as when Coke is bottling its product\n- **Downstream emissions:** emissions that occur after the product leaves the company, such as after Coke has sold drinks to McDonald's",
      "metadata": {
        "cell_id": "17e06466230e41ddb80f4cf97cbdc017",
        "deepnote_cell_type": "markdown"
      }
    },
    {
      "cell_type": "markdown",
      "source": "## 2. Most recent data\n\n*(...) For the five years captured in the database (2013–2017)*",
      "metadata": {
        "cell_id": "bf1c0fac91b7452aa91bf7d586452ba0",
        "deepnote_cell_type": "markdown"
      }
    },
    {
      "cell_type": "markdown",
      "source": "**Task:**\n- Return the most recent year for which data was collected.",
      "metadata": {
        "cell_id": "d445f8371758440696b78938f8f0cbff",
        "deepnote_cell_type": "markdown"
      }
    },
    {
      "cell_type": "code",
      "source": "df_3 = _deepnote_execute_sql('SELECT MAX(year)\\nFROM product_emissions;', 'SQL_15CDD52D_0ED5_419C_8B5D_8ED8AADF2ABF', audit_sql_comment='')\ndf_3",
      "metadata": {
        "cell_id": "ff22e8a6da4447b58e506dc61dbda3e5",
        "source_hash": "99fca7fa",
        "execution_start": 1685235256402,
        "execution_millis": 138,
        "sql_integration_id": "15cdd52d-0ed5-419c-8b5d-8ed8aadf2abf",
        "deepnote_variable_name": "df_3",
        "deepnote_to_be_reexecuted": false,
        "deepnote_cell_type": "sql",
        "deepnote_sql_source": "SELECT MAX(year)\nFROM product_emissions;"
      },
      "outputs": [
        {
          "data": {
            "application/vnd.deepnote.sql-output-metadata+json": {
              "status": "success_no_cache",
              "size_in_bytes": 136
            }
          },
          "metadata": {},
          "output_type": "display_data"
        },
        {
          "output_type": "execute_result",
          "execution_count": 3,
          "data": {
            "application/vnd.deepnote.dataframe.v3+json": {
              "column_count": 1,
              "row_count": 1,
              "columns": [
                {
                  "name": "max",
                  "dtype": "int64",
                  "stats": {
                    "unique_count": 1,
                    "nan_count": 0,
                    "min": "2017",
                    "max": "2017",
                    "histogram": [
                      {
                        "bin_start": 2016.5,
                        "bin_end": 2016.6,
                        "count": 0
                      },
                      {
                        "bin_start": 2016.6,
                        "bin_end": 2016.7,
                        "count": 0
                      },
                      {
                        "bin_start": 2016.7,
                        "bin_end": 2016.8,
                        "count": 0
                      },
                      {
                        "bin_start": 2016.8,
                        "bin_end": 2016.9,
                        "count": 0
                      },
                      {
                        "bin_start": 2016.9,
                        "bin_end": 2017,
                        "count": 0
                      },
                      {
                        "bin_start": 2017,
                        "bin_end": 2017.1,
                        "count": 1
                      },
                      {
                        "bin_start": 2017.1,
                        "bin_end": 2017.2,
                        "count": 0
                      },
                      {
                        "bin_start": 2017.2,
                        "bin_end": 2017.3,
                        "count": 0
                      },
                      {
                        "bin_start": 2017.3,
                        "bin_end": 2017.4,
                        "count": 0
                      },
                      {
                        "bin_start": 2017.4,
                        "bin_end": 2017.5,
                        "count": 0
                      }
                    ]
                  }
                },
                {
                  "name": "_deepnote_index_column",
                  "dtype": "int64"
                }
              ],
              "rows": [
                {
                  "max": "2017",
                  "_deepnote_index_column": "0"
                }
              ]
            },
            "text/plain": "    max\n0  2017",
            "text/html": "<div>\n<style scoped>\n    .dataframe tbody tr th:only-of-type {\n        vertical-align: middle;\n    }\n\n    .dataframe tbody tr th {\n        vertical-align: top;\n    }\n\n    .dataframe thead th {\n        text-align: right;\n    }\n</style>\n<table border=\"1\" class=\"dataframe\">\n  <thead>\n    <tr style=\"text-align: right;\">\n      <th></th>\n      <th>max</th>\n    </tr>\n  </thead>\n  <tbody>\n    <tr>\n      <th>0</th>\n      <td>2017</td>\n    </tr>\n  </tbody>\n</table>\n</div>"
          },
          "metadata": {}
        }
      ],
      "execution_count": 3
    },
    {
      "cell_type": "markdown",
      "source": "## 3. Targeting major emitters\n\nWhat are the industries with the most emissions in 2017 (the most recent year that data is available)?",
      "metadata": {
        "cell_id": "78d3aafd224043bfbad8b8126e483141",
        "deepnote_cell_type": "markdown"
      }
    },
    {
      "cell_type": "markdown",
      "source": "**Task:**\n- Return the `industry_group` and a rounded total of `carbon_footprint_pcf` for each industry, aliasing as `total_industry_footprint`.\n- Limit to data for 2017 and order by `total_industry_footprint`.",
      "metadata": {
        "cell_id": "9ce6011cc4fb412d9c8cdc82cf63ff61",
        "deepnote_cell_type": "markdown"
      }
    },
    {
      "cell_type": "code",
      "source": "df_4 = _deepnote_execute_sql('SELECT industry_group, ROUND(SUM(carbon_footprint_pcf),0) AS total_industry_footprint\\nFROM product_emissions\\nGROUP BY industry_group, year\\nHAVING year = 2017\\nORDER BY total_industry_footprint DESC;', 'SQL_15CDD52D_0ED5_419C_8B5D_8ED8AADF2ABF', audit_sql_comment='')\ndf_4",
      "metadata": {
        "cell_id": "3bb7c1f4a7af47c79547e8f9b66e82f7",
        "source_hash": "e3272655",
        "execution_start": 1685235256558,
        "execution_millis": 112,
        "sql_integration_id": "15cdd52d-0ed5-419c-8b5d-8ed8aadf2abf",
        "deepnote_table_state": {
          "sortBy": [],
          "filters": [],
          "pageSize": 10,
          "pageIndex": 0
        },
        "deepnote_table_loading": false,
        "deepnote_variable_name": "df_4",
        "deepnote_to_be_reexecuted": false,
        "deepnote_cell_type": "sql",
        "deepnote_sql_source": "SELECT industry_group, ROUND(SUM(carbon_footprint_pcf),0) AS total_industry_footprint\nFROM product_emissions\nGROUP BY industry_group, year\nHAVING year = 2017\nORDER BY total_industry_footprint DESC;"
      },
      "outputs": [
        {
          "data": {
            "application/vnd.deepnote.sql-output-metadata+json": {
              "status": "success_no_cache",
              "size_in_bytes": 648
            }
          },
          "metadata": {},
          "output_type": "display_data"
        },
        {
          "output_type": "execute_result",
          "execution_count": 4,
          "data": {
            "application/vnd.deepnote.dataframe.v3+json": {
              "column_count": 2,
              "row_count": 6,
              "columns": [
                {
                  "name": "industry_group",
                  "dtype": "object",
                  "stats": {
                    "unique_count": 6,
                    "nan_count": 0,
                    "categories": [
                      {
                        "name": "Materials",
                        "count": 1
                      },
                      {
                        "name": "Capital Goods",
                        "count": 1
                      },
                      {
                        "name": "4 others",
                        "count": 4
                      }
                    ]
                  }
                },
                {
                  "name": "total_industry_footprint",
                  "dtype": "float64",
                  "stats": {
                    "unique_count": 6,
                    "nan_count": 0,
                    "min": "690.0",
                    "max": "107129.0",
                    "histogram": [
                      {
                        "bin_start": 690,
                        "bin_end": 11333.9,
                        "count": 3
                      },
                      {
                        "bin_start": 11333.9,
                        "bin_end": 21977.8,
                        "count": 1
                      },
                      {
                        "bin_start": 21977.8,
                        "bin_end": 32621.699999999997,
                        "count": 0
                      },
                      {
                        "bin_start": 32621.699999999997,
                        "bin_end": 43265.6,
                        "count": 0
                      },
                      {
                        "bin_start": 43265.6,
                        "bin_end": 53909.5,
                        "count": 0
                      },
                      {
                        "bin_start": 53909.5,
                        "bin_end": 64553.399999999994,
                        "count": 0
                      },
                      {
                        "bin_start": 64553.399999999994,
                        "bin_end": 75197.3,
                        "count": 0
                      },
                      {
                        "bin_start": 75197.3,
                        "bin_end": 85841.2,
                        "count": 0
                      },
                      {
                        "bin_start": 85841.2,
                        "bin_end": 96485.09999999999,
                        "count": 1
                      },
                      {
                        "bin_start": 96485.09999999999,
                        "bin_end": 107129,
                        "count": 1
                      }
                    ]
                  }
                },
                {
                  "name": "_deepnote_index_column",
                  "dtype": "int64"
                }
              ],
              "rows": [
                {
                  "industry_group": "Materials",
                  "total_industry_footprint": "107129.0",
                  "_deepnote_index_column": "0"
                },
                {
                  "industry_group": "Capital Goods",
                  "total_industry_footprint": "94943.0",
                  "_deepnote_index_column": "1"
                },
                {
                  "industry_group": "Technology Hardware & Equipment",
                  "total_industry_footprint": "21865.0",
                  "_deepnote_index_column": "2"
                },
                {
                  "industry_group": "Food, Beverage & Tobacco",
                  "total_industry_footprint": "3161.0",
                  "_deepnote_index_column": "3"
                },
                {
                  "industry_group": "Commercial & Professional Services",
                  "total_industry_footprint": "741.0",
                  "_deepnote_index_column": "4"
                },
                {
                  "industry_group": "Software & Services",
                  "total_industry_footprint": "690.0",
                  "_deepnote_index_column": "5"
                }
              ]
            },
            "text/plain": "                       industry_group  total_industry_footprint\n0                           Materials                  107129.0\n1                       Capital Goods                   94943.0\n2     Technology Hardware & Equipment                   21865.0\n3            Food, Beverage & Tobacco                    3161.0\n4  Commercial & Professional Services                     741.0\n5                 Software & Services                     690.0",
            "text/html": "<div>\n<style scoped>\n    .dataframe tbody tr th:only-of-type {\n        vertical-align: middle;\n    }\n\n    .dataframe tbody tr th {\n        vertical-align: top;\n    }\n\n    .dataframe thead th {\n        text-align: right;\n    }\n</style>\n<table border=\"1\" class=\"dataframe\">\n  <thead>\n    <tr style=\"text-align: right;\">\n      <th></th>\n      <th>industry_group</th>\n      <th>total_industry_footprint</th>\n    </tr>\n  </thead>\n  <tbody>\n    <tr>\n      <th>0</th>\n      <td>Materials</td>\n      <td>107129.0</td>\n    </tr>\n    <tr>\n      <th>1</th>\n      <td>Capital Goods</td>\n      <td>94943.0</td>\n    </tr>\n    <tr>\n      <th>2</th>\n      <td>Technology Hardware &amp; Equipment</td>\n      <td>21865.0</td>\n    </tr>\n    <tr>\n      <th>3</th>\n      <td>Food, Beverage &amp; Tobacco</td>\n      <td>3161.0</td>\n    </tr>\n    <tr>\n      <th>4</th>\n      <td>Commercial &amp; Professional Services</td>\n      <td>741.0</td>\n    </tr>\n    <tr>\n      <th>5</th>\n      <td>Software &amp; Services</td>\n      <td>690.0</td>\n    </tr>\n  </tbody>\n</table>\n</div>"
          },
          "metadata": {}
        }
      ],
      "execution_count": 4
    },
    {
      "cell_type": "markdown",
      "source": "## 4. Industry representation",
      "metadata": {
        "cell_id": "521c70bc87d044b6b0edb91f48d5842e",
        "deepnote_cell_type": "markdown"
      }
    },
    {
      "cell_type": "markdown",
      "source": "Previously, we notice the Materials industry had a huge carbon footprint in 2017. \nIn order to validate this result, I need to check how many companies from the Materials industry are in the dataset and which industries are most heavily represented in that year.\n\n**Task:**\n- Return each `industry_group` included in the table and a count of the number of records that list that industry group.\n- Limit the results to only those from 2017 and alias the count as `count_industry`.\n- Order by `count_industry`, descending.",
      "metadata": {
        "cell_id": "b93bb2ed04ed48e5a6003b28274601bc",
        "deepnote_cell_type": "markdown"
      }
    },
    {
      "cell_type": "code",
      "source": "df_5 = _deepnote_execute_sql('SELECT industry_group, COUNT(*) AS count_industry\\nFROM product_emissions\\nGROUP BY industry_group, year\\nHAVING year = 2017\\nORDER BY count_industry DESC;', 'SQL_15CDD52D_0ED5_419C_8B5D_8ED8AADF2ABF', audit_sql_comment='')\ndf_5",
      "metadata": {
        "cell_id": "dbdb46591f1d422bbb34b5796c41b124",
        "source_hash": "b6e1fb79",
        "execution_start": 1685235256680,
        "execution_millis": 107,
        "sql_integration_id": "15cdd52d-0ed5-419c-8b5d-8ed8aadf2abf",
        "deepnote_variable_name": "df_5",
        "deepnote_to_be_reexecuted": false,
        "deepnote_cell_type": "sql",
        "deepnote_sql_source": "SELECT industry_group, COUNT(*) AS count_industry\nFROM product_emissions\nGROUP BY industry_group, year\nHAVING year = 2017\nORDER BY count_industry DESC;"
      },
      "outputs": [
        {
          "data": {
            "application/vnd.deepnote.sql-output-metadata+json": {
              "status": "success_no_cache",
              "size_in_bytes": 648
            }
          },
          "metadata": {},
          "output_type": "display_data"
        },
        {
          "output_type": "execute_result",
          "execution_count": 5,
          "data": {
            "application/vnd.deepnote.dataframe.v3+json": {
              "column_count": 2,
              "row_count": 6,
              "columns": [
                {
                  "name": "industry_group",
                  "dtype": "object",
                  "stats": {
                    "unique_count": 6,
                    "nan_count": 0,
                    "categories": [
                      {
                        "name": "Technology Hardware & Equipment",
                        "count": 1
                      },
                      {
                        "name": "Food, Beverage & Tobacco",
                        "count": 1
                      },
                      {
                        "name": "4 others",
                        "count": 4
                      }
                    ]
                  }
                },
                {
                  "name": "count_industry",
                  "dtype": "int64",
                  "stats": {
                    "unique_count": 5,
                    "nan_count": 0,
                    "min": "1",
                    "max": "22",
                    "histogram": [
                      {
                        "bin_start": 1,
                        "bin_end": 3.1,
                        "count": 2
                      },
                      {
                        "bin_start": 3.1,
                        "bin_end": 5.2,
                        "count": 1
                      },
                      {
                        "bin_start": 5.2,
                        "bin_end": 7.300000000000001,
                        "count": 0
                      },
                      {
                        "bin_start": 7.300000000000001,
                        "bin_end": 9.4,
                        "count": 0
                      },
                      {
                        "bin_start": 9.4,
                        "bin_end": 11.5,
                        "count": 1
                      },
                      {
                        "bin_start": 11.5,
                        "bin_end": 13.600000000000001,
                        "count": 0
                      },
                      {
                        "bin_start": 13.600000000000001,
                        "bin_end": 15.700000000000001,
                        "count": 0
                      },
                      {
                        "bin_start": 15.700000000000001,
                        "bin_end": 17.8,
                        "count": 0
                      },
                      {
                        "bin_start": 17.8,
                        "bin_end": 19.900000000000002,
                        "count": 0
                      },
                      {
                        "bin_start": 19.900000000000002,
                        "bin_end": 22,
                        "count": 2
                      }
                    ]
                  }
                },
                {
                  "name": "_deepnote_index_column",
                  "dtype": "int64"
                }
              ],
              "rows": [
                {
                  "industry_group": "Technology Hardware & Equipment",
                  "count_industry": "22",
                  "_deepnote_index_column": "0"
                },
                {
                  "industry_group": "Food, Beverage & Tobacco",
                  "count_industry": "22",
                  "_deepnote_index_column": "1"
                },
                {
                  "industry_group": "Materials",
                  "count_industry": "11",
                  "_deepnote_index_column": "2"
                },
                {
                  "industry_group": "Capital Goods",
                  "count_industry": "4",
                  "_deepnote_index_column": "3"
                },
                {
                  "industry_group": "Commercial & Professional Services",
                  "count_industry": "2",
                  "_deepnote_index_column": "4"
                },
                {
                  "industry_group": "Software & Services",
                  "count_industry": "1",
                  "_deepnote_index_column": "5"
                }
              ]
            },
            "text/plain": "                       industry_group  count_industry\n0     Technology Hardware & Equipment              22\n1            Food, Beverage & Tobacco              22\n2                           Materials              11\n3                       Capital Goods               4\n4  Commercial & Professional Services               2\n5                 Software & Services               1",
            "text/html": "<div>\n<style scoped>\n    .dataframe tbody tr th:only-of-type {\n        vertical-align: middle;\n    }\n\n    .dataframe tbody tr th {\n        vertical-align: top;\n    }\n\n    .dataframe thead th {\n        text-align: right;\n    }\n</style>\n<table border=\"1\" class=\"dataframe\">\n  <thead>\n    <tr style=\"text-align: right;\">\n      <th></th>\n      <th>industry_group</th>\n      <th>count_industry</th>\n    </tr>\n  </thead>\n  <tbody>\n    <tr>\n      <th>0</th>\n      <td>Technology Hardware &amp; Equipment</td>\n      <td>22</td>\n    </tr>\n    <tr>\n      <th>1</th>\n      <td>Food, Beverage &amp; Tobacco</td>\n      <td>22</td>\n    </tr>\n    <tr>\n      <th>2</th>\n      <td>Materials</td>\n      <td>11</td>\n    </tr>\n    <tr>\n      <th>3</th>\n      <td>Capital Goods</td>\n      <td>4</td>\n    </tr>\n    <tr>\n      <th>4</th>\n      <td>Commercial &amp; Professional Services</td>\n      <td>2</td>\n    </tr>\n    <tr>\n      <th>5</th>\n      <td>Software &amp; Services</td>\n      <td>1</td>\n    </tr>\n  </tbody>\n</table>\n</div>"
          },
          "metadata": {}
        }
      ],
      "execution_count": 5
    },
    {
      "cell_type": "markdown",
      "source": "Although the Materials industry is underrepresented in our dataset compared to several other industries, it's evident that it is the largest contributor to emissions.\n\nHowever, the Capital Goods industry looks similar...",
      "metadata": {
        "cell_id": "d00adf6e93124845b676f7d92c9c8476",
        "deepnote_cell_type": "markdown"
      }
    },
    {
      "cell_type": "markdown",
      "source": "## 5. Capital Goods industry",
      "metadata": {
        "cell_id": "e3fe2fd1a9c04283a10338821ffb0d88",
        "deepnote_cell_type": "markdown"
      }
    },
    {
      "cell_type": "markdown",
      "source": "Now I'll explore the companies and products reporting for 2017 in the Capital Goods industry.",
      "metadata": {
        "cell_id": "08a8ed8d2b354337ae2cf309db8114f6",
        "deepnote_cell_type": "markdown"
      }
    },
    {
      "cell_type": "markdown",
      "source": "**Task:**\n- Return `industry_group`, `company`, and `product_name` for all records reporting in the Capital Goods industry during 2017",
      "metadata": {
        "cell_id": "ef00ad686264403dbdbf40cf1967a186",
        "deepnote_cell_type": "markdown"
      }
    },
    {
      "cell_type": "code",
      "source": "df_6 = _deepnote_execute_sql('SELECT industry_group, company, product_name\\nFROM product_emissions\\nWHERE industry_group = \\'Capital Goods\\'\\n    AND year = 2017;', 'SQL_15CDD52D_0ED5_419C_8B5D_8ED8AADF2ABF', audit_sql_comment='')\ndf_6",
      "metadata": {
        "cell_id": "fc3e2087e5274595b6d6501fb94c4f69",
        "source_hash": "a22e127e",
        "execution_start": 1685235256800,
        "execution_millis": 114,
        "sql_integration_id": "15cdd52d-0ed5-419c-8b5d-8ed8aadf2abf",
        "deepnote_variable_name": "df_6",
        "deepnote_to_be_reexecuted": false,
        "deepnote_cell_type": "sql",
        "deepnote_sql_source": "SELECT industry_group, company, product_name\nFROM product_emissions\nWHERE industry_group = 'Capital Goods'\n    AND year = 2017;"
      },
      "outputs": [
        {
          "data": {
            "application/vnd.deepnote.sql-output-metadata+json": {
              "status": "success_no_cache",
              "size_in_bytes": 1062
            }
          },
          "metadata": {},
          "output_type": "display_data"
        },
        {
          "output_type": "execute_result",
          "execution_count": 6,
          "data": {
            "application/vnd.deepnote.dataframe.v3+json": {
              "column_count": 3,
              "row_count": 4,
              "columns": [
                {
                  "name": "industry_group",
                  "dtype": "object",
                  "stats": {
                    "unique_count": 1,
                    "nan_count": 0,
                    "categories": [
                      {
                        "name": "Capital Goods",
                        "count": 4
                      }
                    ]
                  }
                },
                {
                  "name": "company",
                  "dtype": "object",
                  "stats": {
                    "unique_count": 2,
                    "nan_count": 0,
                    "categories": [
                      {
                        "name": "Daikin Industries, Ltd.",
                        "count": 3
                      },
                      {
                        "name": "Mitsui Mining & Smelting Co., Ltd.",
                        "count": 1
                      }
                    ]
                  }
                },
                {
                  "name": "product_name",
                  "dtype": "object",
                  "stats": {
                    "unique_count": 4,
                    "nan_count": 0,
                    "categories": [
                      {
                        "name": "Zinc Oxide",
                        "count": 1
                      },
                      {
                        "name": "Residential Air Conditioner",
                        "count": 1
                      },
                      {
                        "name": "2 others",
                        "count": 2
                      }
                    ]
                  }
                },
                {
                  "name": "_deepnote_index_column",
                  "dtype": "int64"
                }
              ],
              "rows": [
                {
                  "industry_group": "Capital Goods",
                  "company": "Mitsui Mining & Smelting Co., Ltd.",
                  "product_name": "Zinc Oxide",
                  "_deepnote_index_column": "0"
                },
                {
                  "industry_group": "Capital Goods",
                  "company": "Daikin Industries, Ltd.",
                  "product_name": "Residential Air Conditioner",
                  "_deepnote_index_column": "1"
                },
                {
                  "industry_group": "Capital Goods",
                  "company": "Daikin Industries, Ltd.",
                  "product_name": "Commercial Air Conditioner",
                  "_deepnote_index_column": "2"
                },
                {
                  "industry_group": "Capital Goods",
                  "company": "Daikin Industries, Ltd.",
                  "product_name": "Light commercial Air Conditioner",
                  "_deepnote_index_column": "3"
                }
              ]
            },
            "text/plain": "  industry_group                             company  \\\n0  Capital Goods  Mitsui Mining & Smelting Co., Ltd.   \n1  Capital Goods             Daikin Industries, Ltd.   \n2  Capital Goods             Daikin Industries, Ltd.   \n3  Capital Goods             Daikin Industries, Ltd.   \n\n                       product_name  \n0                        Zinc Oxide  \n1       Residential Air Conditioner  \n2        Commercial Air Conditioner  \n3  Light commercial Air Conditioner  ",
            "text/html": "<div>\n<style scoped>\n    .dataframe tbody tr th:only-of-type {\n        vertical-align: middle;\n    }\n\n    .dataframe tbody tr th {\n        vertical-align: top;\n    }\n\n    .dataframe thead th {\n        text-align: right;\n    }\n</style>\n<table border=\"1\" class=\"dataframe\">\n  <thead>\n    <tr style=\"text-align: right;\">\n      <th></th>\n      <th>industry_group</th>\n      <th>company</th>\n      <th>product_name</th>\n    </tr>\n  </thead>\n  <tbody>\n    <tr>\n      <th>0</th>\n      <td>Capital Goods</td>\n      <td>Mitsui Mining &amp; Smelting Co., Ltd.</td>\n      <td>Zinc Oxide</td>\n    </tr>\n    <tr>\n      <th>1</th>\n      <td>Capital Goods</td>\n      <td>Daikin Industries, Ltd.</td>\n      <td>Residential Air Conditioner</td>\n    </tr>\n    <tr>\n      <th>2</th>\n      <td>Capital Goods</td>\n      <td>Daikin Industries, Ltd.</td>\n      <td>Commercial Air Conditioner</td>\n    </tr>\n    <tr>\n      <th>3</th>\n      <td>Capital Goods</td>\n      <td>Daikin Industries, Ltd.</td>\n      <td>Light commercial Air Conditioner</td>\n    </tr>\n  </tbody>\n</table>\n</div>"
          },
          "metadata": {}
        }
      ],
      "execution_count": 6
    },
    {
      "cell_type": "markdown",
      "source": "## 6. Capital Goods lifecyle emissions",
      "metadata": {
        "cell_id": "6422549b67694947bc0033844a33c82c",
        "deepnote_cell_type": "markdown"
      }
    },
    {
      "cell_type": "markdown",
      "source": "Daikin is an air conditioning and refrigeration manufacturer.\nAnd now I want to look at emissions throughout the life cycle of Daikin products, if the most emissions are upstream, downstream, or during operations.",
      "metadata": {
        "cell_id": "7c7bb88d3e8a41e8ab094333ae74f69a",
        "deepnote_cell_type": "markdown"
      }
    },
    {
      "cell_type": "markdown",
      "source": "**Task:**\n- Return `product_name`, `company`, `upstream_percent_total_pcf`, `operations_percent_total_pcf`, and `downstream_percent_total_pcf` for Daikin Industries, Ltd. in 2017.",
      "metadata": {
        "cell_id": "7009da53a8a145eb8e22c54234e6ccca",
        "deepnote_cell_type": "markdown"
      }
    },
    {
      "cell_type": "code",
      "source": "df_7 = _deepnote_execute_sql('SELECT product_name,\\n       company,\\n       upstream_percent_total_pcf,\\n       operations_percent_total_pcf,\\n       downstream_percent_total_pcf\\nFROM product_emissions\\nWHERE company = \\'Daikin Industries, Ltd.\\'\\n    AND year = 2017;', 'SQL_15CDD52D_0ED5_419C_8B5D_8ED8AADF2ABF', audit_sql_comment='')\ndf_7",
      "metadata": {
        "cell_id": "a56bc759a29b4cf4bbb6be04d6858244",
        "source_hash": "2a03e69c",
        "execution_start": 1685235256976,
        "execution_millis": 82,
        "sql_integration_id": "15cdd52d-0ed5-419c-8b5d-8ed8aadf2abf",
        "deepnote_variable_name": "df_7",
        "deepnote_to_be_reexecuted": false,
        "deepnote_cell_type": "sql",
        "deepnote_sql_source": "SELECT product_name,\n       company,\n       upstream_percent_total_pcf,\n       operations_percent_total_pcf,\n       downstream_percent_total_pcf\nFROM product_emissions\nWHERE company = 'Daikin Industries, Ltd.'\n    AND year = 2017;"
      },
      "outputs": [
        {
          "data": {
            "application/vnd.deepnote.sql-output-metadata+json": {
              "status": "success_no_cache",
              "size_in_bytes": 1185
            }
          },
          "metadata": {},
          "output_type": "display_data"
        },
        {
          "output_type": "execute_result",
          "execution_count": 7,
          "data": {
            "application/vnd.deepnote.dataframe.v3+json": {
              "column_count": 5,
              "row_count": 3,
              "columns": [
                {
                  "name": "product_name",
                  "dtype": "object",
                  "stats": {
                    "unique_count": 3,
                    "nan_count": 0,
                    "categories": [
                      {
                        "name": "Residential Air Conditioner",
                        "count": 1
                      },
                      {
                        "name": "Commercial Air Conditioner",
                        "count": 1
                      },
                      {
                        "name": "Light commercial Air Conditioner",
                        "count": 1
                      }
                    ]
                  }
                },
                {
                  "name": "company",
                  "dtype": "object",
                  "stats": {
                    "unique_count": 1,
                    "nan_count": 0,
                    "categories": [
                      {
                        "name": "Daikin Industries, Ltd.",
                        "count": 3
                      }
                    ]
                  }
                },
                {
                  "name": "upstream_percent_total_pcf",
                  "dtype": "object",
                  "stats": {
                    "unique_count": 3,
                    "nan_count": 0,
                    "categories": [
                      {
                        "name": "3.96%",
                        "count": 1
                      },
                      {
                        "name": "0.98%",
                        "count": 1
                      },
                      {
                        "name": "0.70%",
                        "count": 1
                      }
                    ]
                  }
                },
                {
                  "name": "operations_percent_total_pcf",
                  "dtype": "object",
                  "stats": {
                    "unique_count": 3,
                    "nan_count": 0,
                    "categories": [
                      {
                        "name": "0.55%",
                        "count": 1
                      },
                      {
                        "name": "0.13%",
                        "count": 1
                      },
                      {
                        "name": "0.10%",
                        "count": 1
                      }
                    ]
                  }
                },
                {
                  "name": "downstream_percent_total_pcf",
                  "dtype": "object",
                  "stats": {
                    "unique_count": 3,
                    "nan_count": 0,
                    "categories": [
                      {
                        "name": "95.50%",
                        "count": 1
                      },
                      {
                        "name": "98.88%",
                        "count": 1
                      },
                      {
                        "name": "99.21%",
                        "count": 1
                      }
                    ]
                  }
                },
                {
                  "name": "_deepnote_index_column",
                  "dtype": "int64"
                }
              ],
              "rows": [
                {
                  "product_name": "Residential Air Conditioner",
                  "company": "Daikin Industries, Ltd.",
                  "upstream_percent_total_pcf": "3.96%",
                  "operations_percent_total_pcf": "0.55%",
                  "downstream_percent_total_pcf": "95.50%",
                  "_deepnote_index_column": "0"
                },
                {
                  "product_name": "Commercial Air Conditioner",
                  "company": "Daikin Industries, Ltd.",
                  "upstream_percent_total_pcf": "0.98%",
                  "operations_percent_total_pcf": "0.13%",
                  "downstream_percent_total_pcf": "98.88%",
                  "_deepnote_index_column": "1"
                },
                {
                  "product_name": "Light commercial Air Conditioner",
                  "company": "Daikin Industries, Ltd.",
                  "upstream_percent_total_pcf": "0.70%",
                  "operations_percent_total_pcf": "0.10%",
                  "downstream_percent_total_pcf": "99.21%",
                  "_deepnote_index_column": "2"
                }
              ]
            },
            "text/plain": "                       product_name                  company  \\\n0       Residential Air Conditioner  Daikin Industries, Ltd.   \n1        Commercial Air Conditioner  Daikin Industries, Ltd.   \n2  Light commercial Air Conditioner  Daikin Industries, Ltd.   \n\n  upstream_percent_total_pcf operations_percent_total_pcf  \\\n0                      3.96%                        0.55%   \n1                      0.98%                        0.13%   \n2                      0.70%                        0.10%   \n\n  downstream_percent_total_pcf  \n0                       95.50%  \n1                       98.88%  \n2                       99.21%  ",
            "text/html": "<div>\n<style scoped>\n    .dataframe tbody tr th:only-of-type {\n        vertical-align: middle;\n    }\n\n    .dataframe tbody tr th {\n        vertical-align: top;\n    }\n\n    .dataframe thead th {\n        text-align: right;\n    }\n</style>\n<table border=\"1\" class=\"dataframe\">\n  <thead>\n    <tr style=\"text-align: right;\">\n      <th></th>\n      <th>product_name</th>\n      <th>company</th>\n      <th>upstream_percent_total_pcf</th>\n      <th>operations_percent_total_pcf</th>\n      <th>downstream_percent_total_pcf</th>\n    </tr>\n  </thead>\n  <tbody>\n    <tr>\n      <th>0</th>\n      <td>Residential Air Conditioner</td>\n      <td>Daikin Industries, Ltd.</td>\n      <td>3.96%</td>\n      <td>0.55%</td>\n      <td>95.50%</td>\n    </tr>\n    <tr>\n      <th>1</th>\n      <td>Commercial Air Conditioner</td>\n      <td>Daikin Industries, Ltd.</td>\n      <td>0.98%</td>\n      <td>0.13%</td>\n      <td>98.88%</td>\n    </tr>\n    <tr>\n      <th>2</th>\n      <td>Light commercial Air Conditioner</td>\n      <td>Daikin Industries, Ltd.</td>\n      <td>0.70%</td>\n      <td>0.10%</td>\n      <td>99.21%</td>\n    </tr>\n  </tbody>\n</table>\n</div>"
          },
          "metadata": {}
        }
      ],
      "execution_count": 7
    },
    {
      "cell_type": "markdown",
      "source": "The vast majority of emissions from Daikin products are downstream emissions, more than 95%. This makes sense, because this company is a manufacturer of air conditioners and refrigerators, so much of the emissions are in charge of the customer's disposal and end-use.",
      "metadata": {
        "cell_id": "cdae448fb4af487983ddf2160fc7f1dd",
        "deepnote_cell_type": "markdown"
      }
    },
    {
      "cell_type": "markdown",
      "source": "## 7. Country representation",
      "metadata": {
        "cell_id": "c260d08a98a640ff9098d5d26400a7f3",
        "deepnote_cell_type": "markdown"
      }
    },
    {
      "cell_type": "markdown",
      "source": "As a proper practice, I want to visualise emissions by country to look for insights and compare. In this case, I use a visualization tool called `plotly`. I select all information from `product_emissions` and turn it into a DataFrame.",
      "metadata": {
        "cell_id": "6e2cd652e9eb415bac2992c0aa491896",
        "deepnote_cell_type": "markdown"
      }
    },
    {
      "cell_type": "code",
      "source": "product_emissions_df = _deepnote_execute_sql('SELECT *\\nFROM product_emissions;', 'SQL_15CDD52D_0ED5_419C_8B5D_8ED8AADF2ABF', audit_sql_comment='')\nproduct_emissions_df",
      "metadata": {
        "cell_id": "316ace9b541e45f3983bba7f96dc7da3",
        "source_hash": "c885d302",
        "execution_start": 1685235257100,
        "execution_millis": 314,
        "sql_integration_id": "15cdd52d-0ed5-419c-8b5d-8ed8aadf2abf",
        "deepnote_variable_name": "product_emissions_df",
        "deepnote_to_be_reexecuted": false,
        "deepnote_cell_type": "sql",
        "deepnote_sql_source": "SELECT *\nFROM product_emissions;"
      },
      "outputs": [
        {
          "data": {
            "application/vnd.deepnote.sql-output-metadata+json": {
              "status": "success_no_cache",
              "size_in_bytes": 580009
            }
          },
          "metadata": {},
          "output_type": "display_data"
        },
        {
          "output_type": "execute_result",
          "execution_count": 8,
          "data": {
            "application/vnd.deepnote.dataframe.v3+json": {
              "column_count": 11,
              "row_count": 866,
              "columns": [
                {
                  "name": "id",
                  "dtype": "object",
                  "stats": {
                    "unique_count": 866,
                    "nan_count": 0,
                    "categories": [
                      {
                        "name": "10056-1-2014",
                        "count": 1
                      },
                      {
                        "name": "10056-1-2015",
                        "count": 1
                      },
                      {
                        "name": "864 others",
                        "count": 864
                      }
                    ]
                  }
                },
                {
                  "name": "year",
                  "dtype": "int64",
                  "stats": {
                    "unique_count": 5,
                    "nan_count": 0,
                    "min": "2013",
                    "max": "2017",
                    "histogram": [
                      {
                        "bin_start": 2013,
                        "bin_end": 2013.4,
                        "count": 179
                      },
                      {
                        "bin_start": 2013.4,
                        "bin_end": 2013.8,
                        "count": 0
                      },
                      {
                        "bin_start": 2013.8,
                        "bin_end": 2014.2,
                        "count": 190
                      },
                      {
                        "bin_start": 2014.2,
                        "bin_end": 2014.6,
                        "count": 0
                      },
                      {
                        "bin_start": 2014.6,
                        "bin_end": 2015,
                        "count": 0
                      },
                      {
                        "bin_start": 2015,
                        "bin_end": 2015.4,
                        "count": 217
                      },
                      {
                        "bin_start": 2015.4,
                        "bin_end": 2015.8,
                        "count": 0
                      },
                      {
                        "bin_start": 2015.8,
                        "bin_end": 2016.2,
                        "count": 218
                      },
                      {
                        "bin_start": 2016.2,
                        "bin_end": 2016.6,
                        "count": 0
                      },
                      {
                        "bin_start": 2016.6,
                        "bin_end": 2017,
                        "count": 62
                      }
                    ]
                  }
                },
                {
                  "name": "product_name",
                  "dtype": "object",
                  "stats": {
                    "unique_count": 672,
                    "nan_count": 0,
                    "categories": [
                      {
                        "name": "ColorQube 8900",
                        "count": 4
                      },
                      {
                        "name": "Tetra Brik® Aseptic Slim 200ml",
                        "count": 4
                      },
                      {
                        "name": "670 others",
                        "count": 858
                      }
                    ]
                  }
                },
                {
                  "name": "company",
                  "dtype": "object",
                  "stats": {
                    "unique_count": 145,
                    "nan_count": 0,
                    "categories": [
                      {
                        "name": "Daimler AG",
                        "count": 37
                      },
                      {
                        "name": "Steelcase",
                        "count": 36
                      },
                      {
                        "name": "143 others",
                        "count": 793
                      }
                    ]
                  }
                },
                {
                  "name": "country",
                  "dtype": "object",
                  "stats": {
                    "unique_count": 28,
                    "nan_count": 0,
                    "categories": [
                      {
                        "name": "USA",
                        "count": 305
                      },
                      {
                        "name": "Japan",
                        "count": 110
                      },
                      {
                        "name": "26 others",
                        "count": 451
                      }
                    ]
                  }
                },
                {
                  "name": "industry_group",
                  "dtype": "object",
                  "stats": {
                    "unique_count": 30,
                    "nan_count": 0,
                    "categories": [
                      {
                        "name": "Technology Hardware & Equipment",
                        "count": 195
                      },
                      {
                        "name": "Materials",
                        "count": 161
                      },
                      {
                        "name": "28 others",
                        "count": 510
                      }
                    ]
                  }
                },
                {
                  "name": "weight_kg",
                  "dtype": "float64",
                  "stats": {
                    "unique_count": 340,
                    "nan_count": 0,
                    "min": "0.00127018044",
                    "max": "600000.0",
                    "histogram": [
                      {
                        "bin_start": 0.00127018044,
                        "bin_end": 60000.00114316239,
                        "count": 861
                      },
                      {
                        "bin_start": 60000.00114316239,
                        "bin_end": 120000.00101614435,
                        "count": 0
                      },
                      {
                        "bin_start": 120000.00101614435,
                        "bin_end": 180000.00088912633,
                        "count": 1
                      },
                      {
                        "bin_start": 180000.00088912633,
                        "bin_end": 240000.00076210828,
                        "count": 0
                      },
                      {
                        "bin_start": 240000.00076210828,
                        "bin_end": 300000.0006350902,
                        "count": 0
                      },
                      {
                        "bin_start": 300000.0006350902,
                        "bin_end": 360000.0005080722,
                        "count": 0
                      },
                      {
                        "bin_start": 360000.0005080722,
                        "bin_end": 420000.0003810541,
                        "count": 2
                      },
                      {
                        "bin_start": 420000.0003810541,
                        "bin_end": 480000.0002540361,
                        "count": 0
                      },
                      {
                        "bin_start": 480000.0002540361,
                        "bin_end": 540000.0001270181,
                        "count": 0
                      },
                      {
                        "bin_start": 540000.0001270181,
                        "bin_end": 600000,
                        "count": 2
                      }
                    ]
                  }
                },
                {
                  "name": "carbon_footprint_pcf",
                  "dtype": "float64",
                  "stats": {
                    "unique_count": 626,
                    "nan_count": 0,
                    "min": "0.0004",
                    "max": "3718044.0",
                    "histogram": [
                      {
                        "bin_start": 0.0004,
                        "bin_end": 371804.40036,
                        "count": 862
                      },
                      {
                        "bin_start": 371804.40036,
                        "bin_end": 743608.80032,
                        "count": 0
                      },
                      {
                        "bin_start": 743608.80032,
                        "bin_end": 1115413.20028,
                        "count": 0
                      },
                      {
                        "bin_start": 1115413.20028,
                        "bin_end": 1487217.60024,
                        "count": 1
                      },
                      {
                        "bin_start": 1487217.60024,
                        "bin_end": 1859022.0002000001,
                        "count": 1
                      },
                      {
                        "bin_start": 1859022.0002000001,
                        "bin_end": 2230826.4001599997,
                        "count": 0
                      },
                      {
                        "bin_start": 2230826.4001599997,
                        "bin_end": 2602630.80012,
                        "count": 0
                      },
                      {
                        "bin_start": 2602630.80012,
                        "bin_end": 2974435.20008,
                        "count": 0
                      },
                      {
                        "bin_start": 2974435.20008,
                        "bin_end": 3346239.60004,
                        "count": 1
                      },
                      {
                        "bin_start": 3346239.60004,
                        "bin_end": 3718044,
                        "count": 1
                      }
                    ]
                  }
                },
                {
                  "name": "upstream_percent_total_pcf",
                  "dtype": "object",
                  "stats": {
                    "unique_count": 338,
                    "nan_count": 0,
                    "categories": [
                      {
                        "name": "N/a (product with insufficient stage-level data)",
                        "count": 445
                      },
                      {
                        "name": "87.01%",
                        "count": 6
                      },
                      {
                        "name": "336 others",
                        "count": 415
                      }
                    ]
                  }
                },
                {
                  "name": "operations_percent_total_pcf",
                  "dtype": "object",
                  "stats": {
                    "unique_count": 317,
                    "nan_count": 0,
                    "categories": [
                      {
                        "name": "N/a (product with insufficient stage-level data)",
                        "count": 445
                      },
                      {
                        "name": "12.99%",
                        "count": 6
                      },
                      {
                        "name": "315 others",
                        "count": 415
                      }
                    ]
                  }
                },
                {
                  "name": "downstream_percent_total_pcf",
                  "dtype": "object",
                  "stats": {
                    "unique_count": 276,
                    "nan_count": 0,
                    "categories": [
                      {
                        "name": "N/a (product with insufficient stage-level data)",
                        "count": 445
                      },
                      {
                        "name": "0.00%",
                        "count": 80
                      },
                      {
                        "name": "274 others",
                        "count": 341
                      }
                    ]
                  }
                },
                {
                  "name": "_deepnote_index_column",
                  "dtype": "int64"
                }
              ],
              "rows": [
                {
                  "id": "10056-1-2014",
                  "year": "2014",
                  "product_name": "Frosted Flakes(R) Cereal",
                  "company": "Kellogg Company",
                  "country": "USA",
                  "industry_group": "Food, Beverage & Tobacco",
                  "weight_kg": "0.7485",
                  "carbon_footprint_pcf": "2.0",
                  "upstream_percent_total_pcf": "57.50%",
                  "operations_percent_total_pcf": "30.00%",
                  "downstream_percent_total_pcf": "12.50%",
                  "_deepnote_index_column": "0"
                },
                {
                  "id": "10056-1-2015",
                  "year": "2015",
                  "product_name": "Frosted Flakes, 23 oz, produced in Lancaster, PA (one carton)",
                  "company": "Kellogg Company",
                  "country": "USA",
                  "industry_group": "Food & Beverage Processing",
                  "weight_kg": "0.7485",
                  "carbon_footprint_pcf": "2.0",
                  "upstream_percent_total_pcf": "57.50%",
                  "operations_percent_total_pcf": "30.00%",
                  "downstream_percent_total_pcf": "12.50%",
                  "_deepnote_index_column": "1"
                },
                {
                  "id": "10222-1-2013",
                  "year": "2013",
                  "product_name": "Office Chair",
                  "company": "KNOLL INC",
                  "country": "USA",
                  "industry_group": "Capital Goods",
                  "weight_kg": "20.68",
                  "carbon_footprint_pcf": "72.54",
                  "upstream_percent_total_pcf": "80.63%",
                  "operations_percent_total_pcf": "17.36%",
                  "downstream_percent_total_pcf": "2.01%",
                  "_deepnote_index_column": "2"
                },
                {
                  "id": "10261-1-2017",
                  "year": "2017",
                  "product_name": "Multifunction Printers",
                  "company": "Konica Minolta, Inc.",
                  "country": "Japan",
                  "industry_group": "Technology Hardware & Equipment",
                  "weight_kg": "110.0",
                  "carbon_footprint_pcf": "1488.0",
                  "upstream_percent_total_pcf": "30.65%",
                  "operations_percent_total_pcf": "5.51%",
                  "downstream_percent_total_pcf": "63.84%",
                  "_deepnote_index_column": "3"
                },
                {
                  "id": "10261-2-2017",
                  "year": "2017",
                  "product_name": "Multifunction Printers",
                  "company": "Konica Minolta, Inc.",
                  "country": "Japan",
                  "industry_group": "Technology Hardware & Equipment",
                  "weight_kg": "110.0",
                  "carbon_footprint_pcf": "1818.0",
                  "upstream_percent_total_pcf": "25.08%",
                  "operations_percent_total_pcf": "4.51%",
                  "downstream_percent_total_pcf": "70.41%",
                  "_deepnote_index_column": "4"
                },
                {
                  "id": "10261-3-2017",
                  "year": "2017",
                  "product_name": "Multifunction Printers",
                  "company": "Konica Minolta, Inc.",
                  "country": "Japan",
                  "industry_group": "Technology Hardware & Equipment",
                  "weight_kg": "110.0",
                  "carbon_footprint_pcf": "2274.0",
                  "upstream_percent_total_pcf": "20.05%",
                  "operations_percent_total_pcf": "3.61%",
                  "downstream_percent_total_pcf": "76.34%",
                  "_deepnote_index_column": "5"
                },
                {
                  "id": "10324-1-2016",
                  "year": "2016",
                  "product_name": "KURALON  fiber",
                  "company": "Kuraray Co., Ltd.",
                  "country": "Japan",
                  "industry_group": "Materials",
                  "weight_kg": "1500.0",
                  "carbon_footprint_pcf": "10000.0",
                  "upstream_percent_total_pcf": "N/a (product with insufficient stage-level data)",
                  "operations_percent_total_pcf": "N/a (product with insufficient stage-level data)",
                  "downstream_percent_total_pcf": "N/a (product with insufficient stage-level data)",
                  "_deepnote_index_column": "6"
                },
                {
                  "id": "10418-1-2013",
                  "year": "2013",
                  "product_name": "Portland Cement",
                  "company": "Lafarge S.A.",
                  "country": "France",
                  "industry_group": "Materials",
                  "weight_kg": "1000.0",
                  "carbon_footprint_pcf": "1102.0",
                  "upstream_percent_total_pcf": "N/a (product with insufficient stage-level data)",
                  "operations_percent_total_pcf": "N/a (product with insufficient stage-level data)",
                  "downstream_percent_total_pcf": "N/a (product with insufficient stage-level data)",
                  "_deepnote_index_column": "7"
                },
                {
                  "id": "10661-10-2014",
                  "year": "2014",
                  "product_name": "Regular Straight 505® Jeans – Steel (Water<Less™)",
                  "company": "Levi Strauss & Co.",
                  "country": "USA",
                  "industry_group": "Consumer Durables & Apparel",
                  "weight_kg": "0.7665",
                  "carbon_footprint_pcf": "15.0",
                  "upstream_percent_total_pcf": "N/a (product with insufficient stage-level data)",
                  "operations_percent_total_pcf": "N/a (product with insufficient stage-level data)",
                  "downstream_percent_total_pcf": "N/a (product with insufficient stage-level data)",
                  "_deepnote_index_column": "8"
                },
                {
                  "id": "10661-10-2015",
                  "year": "2015",
                  "product_name": "Regular Straight 505® Jeans – Steel (Water<Less™)",
                  "company": "Levi Strauss & Co.",
                  "country": "USA",
                  "industry_group": "Textiles, Apparel, Footwear and Luxury Goods",
                  "weight_kg": "0.7665",
                  "carbon_footprint_pcf": "15.0",
                  "upstream_percent_total_pcf": "N/a (product with insufficient stage-level data)",
                  "operations_percent_total_pcf": "N/a (product with insufficient stage-level data)",
                  "downstream_percent_total_pcf": "N/a (product with insufficient stage-level data)",
                  "_deepnote_index_column": "9"
                }
              ]
            },
            "text/plain": "               id  year                                       product_name  \\\n0    10056-1-2014  2014                           Frosted Flakes(R) Cereal   \n1    10056-1-2015  2015  Frosted Flakes, 23 oz, produced in Lancaster, ...   \n2    10222-1-2013  2013                                       Office Chair   \n3    10261-1-2017  2017                             Multifunction Printers   \n4    10261-2-2017  2017                             Multifunction Printers   \n..            ...   ...                                                ...   \n861   9298-2-2014  2014                                        Desktop CPU   \n862   9298-3-2013  2013                                         Mobile CPU   \n863   9298-3-2014  2014                                         Mobile CPU   \n864   9792-1-2017  2017  Complete catalyst system for diesel-powered pa...   \n865   9792-2-2017  2017  Three-way Catalyst for gasoline-powered passen...   \n\n                  company         country  \\\n0         Kellogg Company             USA   \n1         Kellogg Company             USA   \n2               KNOLL INC             USA   \n3    Konica Minolta, Inc.           Japan   \n4    Konica Minolta, Inc.           Japan   \n..                    ...             ...   \n861     Intel Corporation             USA   \n862     Intel Corporation             USA   \n863     Intel Corporation             USA   \n864       Johnson Matthey  United Kingdom   \n865       Johnson Matthey  United Kingdom   \n\n                               industry_group   weight_kg  \\\n0                    Food, Beverage & Tobacco    0.748500   \n1                  Food & Beverage Processing    0.748500   \n2                               Capital Goods   20.680000   \n3             Technology Hardware & Equipment  110.000000   \n4             Technology Hardware & Equipment  110.000000   \n..                                        ...         ...   \n861  Semiconductors & Semiconductor Equipment    0.408233   \n862           Technology Hardware & Equipment    0.408233   \n863  Semiconductors & Semiconductor Equipment    0.408233   \n864                                 Materials    2.000000   \n865                                 Materials    2.000000   \n\n     carbon_footprint_pcf                        upstream_percent_total_pcf  \\\n0                    2.00                                            57.50%   \n1                    2.00                                            57.50%   \n2                   72.54                                            80.63%   \n3                 1488.00                                            30.65%   \n4                 1818.00                                            25.08%   \n..                    ...                                               ...   \n861                 14.00                                            32.14%   \n862                  7.00                                            28.57%   \n863                  7.00                                            31.43%   \n864                188.00  N/a (product with insufficient stage-level data)   \n865                 63.00  N/a (product with insufficient stage-level data)   \n\n                         operations_percent_total_pcf  \\\n0                                              30.00%   \n1                                              30.00%   \n2                                              17.36%   \n3                                               5.51%   \n4                                               4.51%   \n..                                                ...   \n861                                            54.29%   \n862                                            71.43%   \n863                                            54.29%   \n864  N/a (product with insufficient stage-level data)   \n865  N/a (product with insufficient stage-level data)   \n\n                         downstream_percent_total_pcf  \n0                                              12.50%  \n1                                              12.50%  \n2                                               2.01%  \n3                                              63.84%  \n4                                              70.41%  \n..                                                ...  \n861                                            13.57%  \n862                                             0.00%  \n863                                            14.29%  \n864  N/a (product with insufficient stage-level data)  \n865  N/a (product with insufficient stage-level data)  \n\n[866 rows x 11 columns]",
            "text/html": "<div>\n<style scoped>\n    .dataframe tbody tr th:only-of-type {\n        vertical-align: middle;\n    }\n\n    .dataframe tbody tr th {\n        vertical-align: top;\n    }\n\n    .dataframe thead th {\n        text-align: right;\n    }\n</style>\n<table border=\"1\" class=\"dataframe\">\n  <thead>\n    <tr style=\"text-align: right;\">\n      <th></th>\n      <th>id</th>\n      <th>year</th>\n      <th>product_name</th>\n      <th>company</th>\n      <th>country</th>\n      <th>industry_group</th>\n      <th>weight_kg</th>\n      <th>carbon_footprint_pcf</th>\n      <th>upstream_percent_total_pcf</th>\n      <th>operations_percent_total_pcf</th>\n      <th>downstream_percent_total_pcf</th>\n    </tr>\n  </thead>\n  <tbody>\n    <tr>\n      <th>0</th>\n      <td>10056-1-2014</td>\n      <td>2014</td>\n      <td>Frosted Flakes(R) Cereal</td>\n      <td>Kellogg Company</td>\n      <td>USA</td>\n      <td>Food, Beverage &amp; Tobacco</td>\n      <td>0.748500</td>\n      <td>2.00</td>\n      <td>57.50%</td>\n      <td>30.00%</td>\n      <td>12.50%</td>\n    </tr>\n    <tr>\n      <th>1</th>\n      <td>10056-1-2015</td>\n      <td>2015</td>\n      <td>Frosted Flakes, 23 oz, produced in Lancaster, ...</td>\n      <td>Kellogg Company</td>\n      <td>USA</td>\n      <td>Food &amp; Beverage Processing</td>\n      <td>0.748500</td>\n      <td>2.00</td>\n      <td>57.50%</td>\n      <td>30.00%</td>\n      <td>12.50%</td>\n    </tr>\n    <tr>\n      <th>2</th>\n      <td>10222-1-2013</td>\n      <td>2013</td>\n      <td>Office Chair</td>\n      <td>KNOLL INC</td>\n      <td>USA</td>\n      <td>Capital Goods</td>\n      <td>20.680000</td>\n      <td>72.54</td>\n      <td>80.63%</td>\n      <td>17.36%</td>\n      <td>2.01%</td>\n    </tr>\n    <tr>\n      <th>3</th>\n      <td>10261-1-2017</td>\n      <td>2017</td>\n      <td>Multifunction Printers</td>\n      <td>Konica Minolta, Inc.</td>\n      <td>Japan</td>\n      <td>Technology Hardware &amp; Equipment</td>\n      <td>110.000000</td>\n      <td>1488.00</td>\n      <td>30.65%</td>\n      <td>5.51%</td>\n      <td>63.84%</td>\n    </tr>\n    <tr>\n      <th>4</th>\n      <td>10261-2-2017</td>\n      <td>2017</td>\n      <td>Multifunction Printers</td>\n      <td>Konica Minolta, Inc.</td>\n      <td>Japan</td>\n      <td>Technology Hardware &amp; Equipment</td>\n      <td>110.000000</td>\n      <td>1818.00</td>\n      <td>25.08%</td>\n      <td>4.51%</td>\n      <td>70.41%</td>\n    </tr>\n    <tr>\n      <th>...</th>\n      <td>...</td>\n      <td>...</td>\n      <td>...</td>\n      <td>...</td>\n      <td>...</td>\n      <td>...</td>\n      <td>...</td>\n      <td>...</td>\n      <td>...</td>\n      <td>...</td>\n      <td>...</td>\n    </tr>\n    <tr>\n      <th>861</th>\n      <td>9298-2-2014</td>\n      <td>2014</td>\n      <td>Desktop CPU</td>\n      <td>Intel Corporation</td>\n      <td>USA</td>\n      <td>Semiconductors &amp; Semiconductor Equipment</td>\n      <td>0.408233</td>\n      <td>14.00</td>\n      <td>32.14%</td>\n      <td>54.29%</td>\n      <td>13.57%</td>\n    </tr>\n    <tr>\n      <th>862</th>\n      <td>9298-3-2013</td>\n      <td>2013</td>\n      <td>Mobile CPU</td>\n      <td>Intel Corporation</td>\n      <td>USA</td>\n      <td>Technology Hardware &amp; Equipment</td>\n      <td>0.408233</td>\n      <td>7.00</td>\n      <td>28.57%</td>\n      <td>71.43%</td>\n      <td>0.00%</td>\n    </tr>\n    <tr>\n      <th>863</th>\n      <td>9298-3-2014</td>\n      <td>2014</td>\n      <td>Mobile CPU</td>\n      <td>Intel Corporation</td>\n      <td>USA</td>\n      <td>Semiconductors &amp; Semiconductor Equipment</td>\n      <td>0.408233</td>\n      <td>7.00</td>\n      <td>31.43%</td>\n      <td>54.29%</td>\n      <td>14.29%</td>\n    </tr>\n    <tr>\n      <th>864</th>\n      <td>9792-1-2017</td>\n      <td>2017</td>\n      <td>Complete catalyst system for diesel-powered pa...</td>\n      <td>Johnson Matthey</td>\n      <td>United Kingdom</td>\n      <td>Materials</td>\n      <td>2.000000</td>\n      <td>188.00</td>\n      <td>N/a (product with insufficient stage-level data)</td>\n      <td>N/a (product with insufficient stage-level data)</td>\n      <td>N/a (product with insufficient stage-level data)</td>\n    </tr>\n    <tr>\n      <th>865</th>\n      <td>9792-2-2017</td>\n      <td>2017</td>\n      <td>Three-way Catalyst for gasoline-powered passen...</td>\n      <td>Johnson Matthey</td>\n      <td>United Kingdom</td>\n      <td>Materials</td>\n      <td>2.000000</td>\n      <td>63.00</td>\n      <td>N/a (product with insufficient stage-level data)</td>\n      <td>N/a (product with insufficient stage-level data)</td>\n      <td>N/a (product with insufficient stage-level data)</td>\n    </tr>\n  </tbody>\n</table>\n<p>866 rows × 11 columns</p>\n</div>"
          },
          "metadata": {}
        }
      ],
      "execution_count": 8
    },
    {
      "cell_type": "markdown",
      "source": "### Exploring visually with plotly express",
      "metadata": {
        "cell_id": "88a03964d22b439195dec749cf7fbc3a",
        "deepnote_cell_type": "markdown"
      }
    },
    {
      "cell_type": "code",
      "source": "import plotly.express as px",
      "metadata": {
        "cell_id": "cf579b6be4eb46a7bb0c1f51924a039b",
        "source_hash": "bceeddb3",
        "execution_start": 1685235257433,
        "execution_millis": 436,
        "deepnote_to_be_reexecuted": false,
        "deepnote_cell_type": "code"
      },
      "outputs": [],
      "execution_count": 9
    },
    {
      "cell_type": "code",
      "source": "px.bar(product_emissions_df, x= \"country\")",
      "metadata": {
        "cell_id": "04be2c0583a34873af3a3d795ceeed54",
        "source_hash": "477d80f5",
        "execution_start": 1685235257879,
        "execution_millis": 2657,
        "deepnote_to_be_reexecuted": false,
        "deepnote_cell_type": "code"
      },
      "outputs": [
        {
          "data": {
            "text/html": "<html>\n<head><meta charset=\"utf-8\" /></head>\n<body>\n    <div>            <script src=\"https://cdnjs.cloudflare.com/ajax/libs/mathjax/2.7.5/MathJax.js?config=TeX-AMS-MML_SVG\"></script><script type=\"text/javascript\">if (window.MathJax && window.MathJax.Hub && window.MathJax.Hub.Config) {window.MathJax.Hub.Config({SVG: {font: \"STIX-Web\"}});}</script>                <script type=\"text/javascript\">window.PlotlyConfig = {MathJaxConfig: 'local'};</script>\n        <script src=\"https://cdn.plot.ly/plotly-2.14.0.min.js\"></script>                <div id=\"e99fd1fa-ace1-420c-b505-87a00ad0c6f5\" class=\"plotly-graph-div\" style=\"height:525px; width:100%;\"></div>            <script type=\"text/javascript\">                                    window.PLOTLYENV=window.PLOTLYENV || {};                                    if (document.getElementById(\"e99fd1fa-ace1-420c-b505-87a00ad0c6f5\")) {                    Plotly.newPlot(                        \"e99fd1fa-ace1-420c-b505-87a00ad0c6f5\",                        [{\"alignmentgroup\":\"True\",\"hovertemplate\":\"country=%{x}<br>count=%{y}<extra></extra>\",\"legendgroup\":\"\",\"marker\":{\"color\":\"#636efa\",\"pattern\":{\"shape\":\"\"}},\"name\":\"\",\"offsetgroup\":\"\",\"orientation\":\"v\",\"showlegend\":false,\"textposition\":\"auto\",\"x\":[\"USA\",\"USA\",\"USA\",\"Japan\",\"Japan\",\"Japan\",\"Japan\",\"France\",\"USA\",\"USA\",\"USA\",\"USA\",\"USA\",\"USA\",\"USA\",\"USA\",\"USA\",\"USA\",\"USA\",\"USA\",\"USA\",\"USA\",\"USA\",\"USA\",\"USA\",\"USA\",\"USA\",\"USA\",\"USA\",\"USA\",\"USA\",\"USA\",\"USA\",\"USA\",\"USA\",\"USA\",\"USA\",\"USA\",\"USA\",\"USA\",\"USA\",\"USA\",\"USA\",\"USA\",\"USA\",\"USA\",\"USA\",\"USA\",\"USA\",\"USA\",\"USA\",\"USA\",\"USA\",\"USA\",\"USA\",\"USA\",\"USA\",\"USA\",\"USA\",\"USA\",\"USA\",\"USA\",\"USA\",\"USA\",\"USA\",\"South Korea\",\"South Korea\",\"South Korea\",\"South Korea\",\"South Korea\",\"South Korea\",\"South Korea\",\"South Korea\",\"South Korea\",\"South Korea\",\"South Korea\",\"Switzerland\",\"United Kingdom\",\"United Kingdom\",\"United Kingdom\",\"Brazil\",\"Taiwan\",\"USA\",\"USA\",\"USA\",\"USA\",\"USA\",\"Spain\",\"United Kingdom\",\"United Kingdom\",\"Japan\",\"Japan\",\"Japan\",\"Japan\",\"Japan\",\"Japan\",\"Japan\",\"Japan\",\"Japan\",\"USA\",\"USA\",\"USA\",\"USA\",\"USA\",\"USA\",\"Japan\",\"Japan\",\"Japan\",\"Switzerland\",\"Switzerland\",\"Switzerland\",\"Switzerland\",\"Switzerland\",\"Switzerland\",\"Switzerland\",\"Switzerland\",\"Switzerland\",\"USA\",\"Switzerland\",\"Switzerland\",\"Finland\",\"Finland\",\"Finland\",\"Finland\",\"Japan\",\"Japan\",\"Japan\",\"Japan\",\"Japan\",\"Japan\",\"Japan\",\"Japan\",\"Japan\",\"Japan\",\"Japan\",\"Japan\",\"Japan\",\"Japan\",\"Japan\",\"Japan\",\"USA\",\"USA\",\"USA\",\"USA\",\"USA\",\"USA\",\"USA\",\"USA\",\"USA\",\"USA\",\"USA\",\"USA\",\"Taiwan\",\"Taiwan\",\"China\",\"China\",\"Taiwan\",\"Taiwan\",\"Taiwan\",\"Taiwan\",\"Taiwan\",\"Taiwan\",\"Taiwan\",\"Taiwan\",\"Taiwan\",\"Taiwan\",\"Taiwan\",\"Taiwan\",\"Taiwan\",\"Taiwan\",\"Taiwan\",\"Taiwan\",\"Taiwan\",\"Taiwan\",\"Taiwan\",\"Taiwan\",\"Taiwan\",\"Taiwan\",\"Canada\",\"Canada\",\"Canada\",\"Canada\",\"Canada\",\"Canada\",\"Japan\",\"Japan\",\"Japan\",\"Japan\",\"Japan\",\"Japan\",\"Japan\",\"Japan\",\"Japan\",\"Japan\",\"South Africa\",\"South Africa\",\"South Africa\",\"South Africa\",\"South Africa\",\"South Africa\",\"South Africa\",\"South Africa\",\"France\",\"France\",\"France\",\"France\",\"Ireland\",\"Ireland\",\"Ireland\",\"Ireland\",\"Ireland\",\"Ireland\",\"Belgium\",\"Belgium\",\"Belgium\",\"Belgium\",\"Belgium\",\"Belgium\",\"Belgium\",\"Belgium\",\"USA\",\"USA\",\"USA\",\"USA\",\"USA\",\"USA\",\"USA\",\"USA\",\"USA\",\"USA\",\"USA\",\"USA\",\"USA\",\"USA\",\"USA\",\"USA\",\"USA\",\"USA\",\"USA\",\"USA\",\"USA\",\"USA\",\"USA\",\"USA\",\"USA\",\"USA\",\"USA\",\"USA\",\"USA\",\"USA\",\"USA\",\"USA\",\"USA\",\"USA\",\"USA\",\"USA\",\"USA\",\"USA\",\"USA\",\"USA\",\"USA\",\"USA\",\"USA\",\"USA\",\"USA\",\"Switzerland\",\"Switzerland\",\"Switzerland\",\"Switzerland\",\"India\",\"India\",\"India\",\"India\",\"India\",\"India\",\"India\",\"India\",\"India\",\"India\",\"India\",\"India\",\"India\",\"India\",\"India\",\"India\",\"Sweden\",\"Sweden\",\"Sweden\",\"Sweden\",\"Sweden\",\"Sweden\",\"Sweden\",\"Sweden\",\"Sweden\",\"Sweden\",\"Sweden\",\"Sweden\",\"Sweden\",\"Sweden\",\"Sweden\",\"Sweden\",\"USA\",\"USA\",\"USA\",\"USA\",\"USA\",\"USA\",\"USA\",\"USA\",\"USA\",\"USA\",\"USA\",\"USA\",\"France\",\"France\",\"France\",\"Japan\",\"Japan\",\"Sweden\",\"United Kingdom\",\"Germany\",\"Germany\",\"Germany\",\"Germany\",\"Germany\",\"Germany\",\"Germany\",\"Germany\",\"Germany\",\"Germany\",\"Germany\",\"Germany\",\"Germany\",\"Germany\",\"Germany\",\"Germany\",\"Germany\",\"Germany\",\"Germany\",\"Germany\",\"Germany\",\"Germany\",\"Germany\",\"Germany\",\"Germany\",\"USA\",\"USA\",\"USA\",\"Brazil\",\"Brazil\",\"Brazil\",\"USA\",\"USA\",\"USA\",\"USA\",\"USA\",\"USA\",\"USA\",\"USA\",\"USA\",\"USA\",\"USA\",\"USA\",\"USA\",\"USA\",\"USA\",\"USA\",\"USA\",\"USA\",\"USA\",\"USA\",\"USA\",\"USA\",\"USA\",\"USA\",\"USA\",\"USA\",\"Japan\",\"Japan\",\"Japan\",\"Japan\",\"Japan\",\"Japan\",\"Japan\",\"Japan\",\"Australia\",\"Australia\",\"Australia\",\"Australia\",\"Australia\",\"Australia\",\"Brazil\",\"Brazil\",\"Brazil\",\"Brazil\",\"Brazil\",\"Brazil\",\"Brazil\",\"Brazil\",\"Brazil\",\"Brazil\",\"Brazil\",\"Brazil\",\"Taiwan\",\"Taiwan\",\"Taiwan\",\"Taiwan\",\"Taiwan\",\"Taiwan\",\"Taiwan\",\"Taiwan\",\"Taiwan\",\"Taiwan\",\"Taiwan\",\"Taiwan\",\"Taiwan\",\"Taiwan\",\"Taiwan\",\"Taiwan\",\"Taiwan\",\"Taiwan\",\"Taiwan\",\"Taiwan\",\"Taiwan\",\"Taiwan\",\"Japan\",\"South Korea\",\"Chile\",\"Chile\",\"Chile\",\"Finland\",\"Finland\",\"Finland\",\"Finland\",\"Finland\",\"Finland\",\"Finland\",\"Finland\",\"Finland\",\"Finland\",\"Finland\",\"Finland\",\"Finland\",\"Finland\",\"Finland\",\"Finland\",\"Finland\",\"Finland\",\"Finland\",\"Finland\",\"Finland\",\"Finland\",\"Finland\",\"Finland\",\"Finland\",\"Finland\",\"Finland\",\"Finland\",\"Finland\",\"Finland\",\"Finland\",\"USA\",\"USA\",\"USA\",\"USA\",\"Sweden\",\"Sweden\",\"Taiwan\",\"Switzerland\",\"Switzerland\",\"Switzerland\",\"Spain\",\"Spain\",\"Spain\",\"Spain\",\"USA\",\"USA\",\"USA\",\"USA\",\"USA\",\"USA\",\"USA\",\"USA\",\"USA\",\"USA\",\"USA\",\"USA\",\"USA\",\"USA\",\"USA\",\"USA\",\"USA\",\"USA\",\"USA\",\"USA\",\"USA\",\"USA\",\"USA\",\"USA\",\"USA\",\"USA\",\"USA\",\"USA\",\"USA\",\"USA\",\"USA\",\"USA\",\"USA\",\"United Kingdom\",\"United Kingdom\",\"United Kingdom\",\"United Kingdom\",\"United Kingdom\",\"United Kingdom\",\"United Kingdom\",\"United Kingdom\",\"USA\",\"Japan\",\"Japan\",\"Japan\",\"Japan\",\"USA\",\"USA\",\"United Kingdom\",\"United Kingdom\",\"United Kingdom\",\"United Kingdom\",\"United Kingdom\",\"United Kingdom\",\"United Kingdom\",\"USA\",\"USA\",\"Lithuania\",\"Japan\",\"Japan\",\"Spain\",\"Spain\",\"USA\",\"USA\",\"Taiwan\",\"Japan\",\"Japan\",\"Japan\",\"Spain\",\"Spain\",\"USA\",\"USA\",\"USA\",\"USA\",\"USA\",\"South Korea\",\"South Korea\",\"South Korea\",\"South Korea\",\"South Korea\",\"South Korea\",\"Germany\",\"Switzerland\",\"Switzerland\",\"Switzerland\",\"Switzerland\",\"Switzerland\",\"Switzerland\",\"Switzerland\",\"Switzerland\",\"France\",\"France\",\"USA\",\"USA\",\"USA\",\"USA\",\"USA\",\"USA\",\"USA\",\"USA\",\"USA\",\"USA\",\"USA\",\"USA\",\"USA\",\"USA\",\"USA\",\"USA\",\"USA\",\"USA\",\"USA\",\"USA\",\"Brazil\",\"USA\",\"USA\",\"USA\",\"USA\",\"USA\",\"USA\",\"USA\",\"USA\",\"USA\",\"USA\",\"USA\",\"USA\",\"USA\",\"USA\",\"Taiwan\",\"Taiwan\",\"USA\",\"USA\",\"USA\",\"USA\",\"USA\",\"USA\",\"USA\",\"USA\",\"Italy\",\"Italy\",\"Italy\",\"Italy\",\"Italy\",\"Italy\",\"Italy\",\"Italy\",\"Italy\",\"Italy\",\"Italy\",\"Italy\",\"Italy\",\"Italy\",\"Italy\",\"Italy\",\"Italy\",\"Italy\",\"Italy\",\"Italy\",\"USA\",\"USA\",\"USA\",\"USA\",\"United Kingdom\",\"United Kingdom\",\"United Kingdom\",\"Japan\",\"Japan\",\"Japan\",\"Japan\",\"Japan\",\"Japan\",\"Japan\",\"Japan\",\"Japan\",\"Japan\",\"Japan\",\"Japan\",\"Japan\",\"Japan\",\"Japan\",\"Japan\",\"Japan\",\"Japan\",\"Japan\",\"Japan\",\"Japan\",\"Japan\",\"Japan\",\"Spain\",\"Spain\",\"Spain\",\"Spain\",\"Germany\",\"Germany\",\"South Africa\",\"USA\",\"USA\",\"USA\",\"USA\",\"Netherlands\",\"USA\",\"Japan\",\"Japan\",\"Japan\",\"Japan\",\"Japan\",\"Japan\",\"Germany\",\"Germany\",\"Germany\",\"Germany\",\"Germany\",\"Germany\",\"Germany\",\"Germany\",\"Germany\",\"Germany\",\"Germany\",\"Germany\",\"Germany\",\"Germany\",\"Germany\",\"Germany\",\"Germany\",\"Germany\",\"Germany\",\"Germany\",\"Germany\",\"Germany\",\"Germany\",\"Germany\",\"Germany\",\"Germany\",\"Germany\",\"Germany\",\"Germany\",\"Germany\",\"Germany\",\"Germany\",\"Germany\",\"Germany\",\"Germany\",\"Germany\",\"Germany\",\"France\",\"France\",\"France\",\"France\",\"France\",\"France\",\"France\",\"France\",\"France\",\"Taiwan\",\"Taiwan\",\"Taiwan\",\"Taiwan\",\"Taiwan\",\"Taiwan\",\"USA\",\"USA\",\"USA\",\"USA\",\"USA\",\"USA\",\"USA\",\"Netherlands\",\"USA\",\"USA\",\"USA\",\"USA\",\"USA\",\"USA\",\"USA\",\"USA\",\"Netherlands\",\"Netherlands\",\"Netherlands\",\"Netherlands\",\"Netherlands\",\"Netherlands\",\"Netherlands\",\"Netherlands\",\"Netherlands\",\"Netherlands\",\"Netherlands\",\"Netherlands\",\"Netherlands\",\"Netherlands\",\"Netherlands\",\"Netherlands\",\"Netherlands\",\"Netherlands\",\"Netherlands\",\"Netherlands\",\"Netherlands\",\"Netherlands\",\"Netherlands\",\"Netherlands\",\"Netherlands\",\"Netherlands\",\"Netherlands\",\"Netherlands\",\"Netherlands\",\"Netherlands\",\"Netherlands\",\"Netherlands\",\"Netherlands\",\"South Africa\",\"South Africa\",\"United Kingdom\",\"United Kingdom\",\"United Kingdom\",\"United Kingdom\",\"United Kingdom\",\"United Kingdom\",\"Italy\",\"Italy\",\"South Korea\",\"Taiwan\",\"Italy\",\"Colombia\",\"Colombia\",\"China\",\"China\",\"USA\",\"USA\",\"Indonesia\",\"Malaysia\",\"Malaysia\",\"Malaysia\",\"Malaysia\",\"Greece\",\"USA\",\"USA\",\"USA\",\"USA\",\"USA\",\"USA\",\"USA\",\"China\",\"China\",\"Sweden\",\"Sweden\",\"Sweden\",\"Taiwan\",\"Taiwan\",\"Germany\",\"Germany\",\"Japan\",\"Japan\",\"Japan\",\"Japan\",\"Japan\",\"Japan\",\"Japan\",\"Japan\",\"Japan\",\"Japan\",\"Japan\",\"Japan\",\"Japan\",\"Japan\",\"Japan\",\"Japan\",\"Japan\",\"USA\",\"USA\",\"USA\",\"USA\",\"Switzerland\",\"USA\",\"Japan\",\"Japan\",\"Sweden\",\"Sweden\",\"Sweden\",\"Sweden\",\"South Korea\",\"South Korea\",\"South Korea\",\"Luxembourg\",\"Luxembourg\",\"France\",\"USA\",\"USA\",\"USA\",\"USA\",\"USA\",\"USA\",\"United Kingdom\",\"United Kingdom\"],\"xaxis\":\"x\",\"y\":[1,1,1,1,1,1,1,1,1,1,1,1,1,1,1,1,1,1,1,1,1,1,1,1,1,1,1,1,1,1,1,1,1,1,1,1,1,1,1,1,1,1,1,1,1,1,1,1,1,1,1,1,1,1,1,1,1,1,1,1,1,1,1,1,1,1,1,1,1,1,1,1,1,1,1,1,1,1,1,1,1,1,1,1,1,1,1,1,1,1,1,1,1,1,1,1,1,1,1,1,1,1,1,1,1,1,1,1,1,1,1,1,1,1,1,1,1,1,1,1,1,1,1,1,1,1,1,1,1,1,1,1,1,1,1,1,1,1,1,1,1,1,1,1,1,1,1,1,1,1,1,1,1,1,1,1,1,1,1,1,1,1,1,1,1,1,1,1,1,1,1,1,1,1,1,1,1,1,1,1,1,1,1,1,1,1,1,1,1,1,1,1,1,1,1,1,1,1,1,1,1,1,1,1,1,1,1,1,1,1,1,1,1,1,1,1,1,1,1,1,1,1,1,1,1,1,1,1,1,1,1,1,1,1,1,1,1,1,1,1,1,1,1,1,1,1,1,1,1,1,1,1,1,1,1,1,1,1,1,1,1,1,1,1,1,1,1,1,1,1,1,1,1,1,1,1,1,1,1,1,1,1,1,1,1,1,1,1,1,1,1,1,1,1,1,1,1,1,1,1,1,1,1,1,1,1,1,1,1,1,1,1,1,1,1,1,1,1,1,1,1,1,1,1,1,1,1,1,1,1,1,1,1,1,1,1,1,1,1,1,1,1,1,1,1,1,1,1,1,1,1,1,1,1,1,1,1,1,1,1,1,1,1,1,1,1,1,1,1,1,1,1,1,1,1,1,1,1,1,1,1,1,1,1,1,1,1,1,1,1,1,1,1,1,1,1,1,1,1,1,1,1,1,1,1,1,1,1,1,1,1,1,1,1,1,1,1,1,1,1,1,1,1,1,1,1,1,1,1,1,1,1,1,1,1,1,1,1,1,1,1,1,1,1,1,1,1,1,1,1,1,1,1,1,1,1,1,1,1,1,1,1,1,1,1,1,1,1,1,1,1,1,1,1,1,1,1,1,1,1,1,1,1,1,1,1,1,1,1,1,1,1,1,1,1,1,1,1,1,1,1,1,1,1,1,1,1,1,1,1,1,1,1,1,1,1,1,1,1,1,1,1,1,1,1,1,1,1,1,1,1,1,1,1,1,1,1,1,1,1,1,1,1,1,1,1,1,1,1,1,1,1,1,1,1,1,1,1,1,1,1,1,1,1,1,1,1,1,1,1,1,1,1,1,1,1,1,1,1,1,1,1,1,1,1,1,1,1,1,1,1,1,1,1,1,1,1,1,1,1,1,1,1,1,1,1,1,1,1,1,1,1,1,1,1,1,1,1,1,1,1,1,1,1,1,1,1,1,1,1,1,1,1,1,1,1,1,1,1,1,1,1,1,1,1,1,1,1,1,1,1,1,1,1,1,1,1,1,1,1,1,1,1,1,1,1,1,1,1,1,1,1,1,1,1,1,1,1,1,1,1,1,1,1,1,1,1,1,1,1,1,1,1,1,1,1,1,1,1,1,1,1,1,1,1,1,1,1,1,1,1,1,1,1,1,1,1,1,1,1,1,1,1,1,1,1,1,1,1,1,1,1,1,1,1,1,1,1,1,1,1,1,1,1,1,1,1,1,1,1,1,1,1,1,1,1,1,1,1,1,1,1,1,1,1,1,1,1,1,1,1,1,1,1,1,1,1,1,1,1,1,1,1,1,1,1,1,1,1,1,1,1,1,1,1,1,1,1,1,1,1,1,1,1,1,1,1,1,1,1,1,1,1,1,1,1,1,1,1,1,1,1,1,1,1,1,1,1,1,1,1,1,1,1,1,1,1,1,1,1,1,1,1,1,1,1,1,1,1,1,1,1,1,1,1,1,1,1,1,1,1,1,1,1,1,1],\"yaxis\":\"y\",\"type\":\"bar\"}],                        {\"template\":{\"data\":{\"histogram2dcontour\":[{\"type\":\"histogram2dcontour\",\"colorbar\":{\"outlinewidth\":0,\"ticks\":\"\"},\"colorscale\":[[0.0,\"#0d0887\"],[0.1111111111111111,\"#46039f\"],[0.2222222222222222,\"#7201a8\"],[0.3333333333333333,\"#9c179e\"],[0.4444444444444444,\"#bd3786\"],[0.5555555555555556,\"#d8576b\"],[0.6666666666666666,\"#ed7953\"],[0.7777777777777778,\"#fb9f3a\"],[0.8888888888888888,\"#fdca26\"],[1.0,\"#f0f921\"]]}],\"choropleth\":[{\"type\":\"choropleth\",\"colorbar\":{\"outlinewidth\":0,\"ticks\":\"\"}}],\"histogram2d\":[{\"type\":\"histogram2d\",\"colorbar\":{\"outlinewidth\":0,\"ticks\":\"\"},\"colorscale\":[[0.0,\"#0d0887\"],[0.1111111111111111,\"#46039f\"],[0.2222222222222222,\"#7201a8\"],[0.3333333333333333,\"#9c179e\"],[0.4444444444444444,\"#bd3786\"],[0.5555555555555556,\"#d8576b\"],[0.6666666666666666,\"#ed7953\"],[0.7777777777777778,\"#fb9f3a\"],[0.8888888888888888,\"#fdca26\"],[1.0,\"#f0f921\"]]}],\"heatmap\":[{\"type\":\"heatmap\",\"colorbar\":{\"outlinewidth\":0,\"ticks\":\"\"},\"colorscale\":[[0.0,\"#0d0887\"],[0.1111111111111111,\"#46039f\"],[0.2222222222222222,\"#7201a8\"],[0.3333333333333333,\"#9c179e\"],[0.4444444444444444,\"#bd3786\"],[0.5555555555555556,\"#d8576b\"],[0.6666666666666666,\"#ed7953\"],[0.7777777777777778,\"#fb9f3a\"],[0.8888888888888888,\"#fdca26\"],[1.0,\"#f0f921\"]]}],\"heatmapgl\":[{\"type\":\"heatmapgl\",\"colorbar\":{\"outlinewidth\":0,\"ticks\":\"\"},\"colorscale\":[[0.0,\"#0d0887\"],[0.1111111111111111,\"#46039f\"],[0.2222222222222222,\"#7201a8\"],[0.3333333333333333,\"#9c179e\"],[0.4444444444444444,\"#bd3786\"],[0.5555555555555556,\"#d8576b\"],[0.6666666666666666,\"#ed7953\"],[0.7777777777777778,\"#fb9f3a\"],[0.8888888888888888,\"#fdca26\"],[1.0,\"#f0f921\"]]}],\"contourcarpet\":[{\"type\":\"contourcarpet\",\"colorbar\":{\"outlinewidth\":0,\"ticks\":\"\"}}],\"contour\":[{\"type\":\"contour\",\"colorbar\":{\"outlinewidth\":0,\"ticks\":\"\"},\"colorscale\":[[0.0,\"#0d0887\"],[0.1111111111111111,\"#46039f\"],[0.2222222222222222,\"#7201a8\"],[0.3333333333333333,\"#9c179e\"],[0.4444444444444444,\"#bd3786\"],[0.5555555555555556,\"#d8576b\"],[0.6666666666666666,\"#ed7953\"],[0.7777777777777778,\"#fb9f3a\"],[0.8888888888888888,\"#fdca26\"],[1.0,\"#f0f921\"]]}],\"surface\":[{\"type\":\"surface\",\"colorbar\":{\"outlinewidth\":0,\"ticks\":\"\"},\"colorscale\":[[0.0,\"#0d0887\"],[0.1111111111111111,\"#46039f\"],[0.2222222222222222,\"#7201a8\"],[0.3333333333333333,\"#9c179e\"],[0.4444444444444444,\"#bd3786\"],[0.5555555555555556,\"#d8576b\"],[0.6666666666666666,\"#ed7953\"],[0.7777777777777778,\"#fb9f3a\"],[0.8888888888888888,\"#fdca26\"],[1.0,\"#f0f921\"]]}],\"mesh3d\":[{\"type\":\"mesh3d\",\"colorbar\":{\"outlinewidth\":0,\"ticks\":\"\"}}],\"scatter\":[{\"fillpattern\":{\"fillmode\":\"overlay\",\"size\":10,\"solidity\":0.2},\"type\":\"scatter\"}],\"parcoords\":[{\"type\":\"parcoords\",\"line\":{\"colorbar\":{\"outlinewidth\":0,\"ticks\":\"\"}}}],\"scatterpolargl\":[{\"type\":\"scatterpolargl\",\"marker\":{\"colorbar\":{\"outlinewidth\":0,\"ticks\":\"\"}}}],\"bar\":[{\"error_x\":{\"color\":\"#2a3f5f\"},\"error_y\":{\"color\":\"#2a3f5f\"},\"marker\":{\"line\":{\"color\":\"#E5ECF6\",\"width\":0.5},\"pattern\":{\"fillmode\":\"overlay\",\"size\":10,\"solidity\":0.2}},\"type\":\"bar\"}],\"scattergeo\":[{\"type\":\"scattergeo\",\"marker\":{\"colorbar\":{\"outlinewidth\":0,\"ticks\":\"\"}}}],\"scatterpolar\":[{\"type\":\"scatterpolar\",\"marker\":{\"colorbar\":{\"outlinewidth\":0,\"ticks\":\"\"}}}],\"histogram\":[{\"marker\":{\"pattern\":{\"fillmode\":\"overlay\",\"size\":10,\"solidity\":0.2}},\"type\":\"histogram\"}],\"scattergl\":[{\"type\":\"scattergl\",\"marker\":{\"colorbar\":{\"outlinewidth\":0,\"ticks\":\"\"}}}],\"scatter3d\":[{\"type\":\"scatter3d\",\"line\":{\"colorbar\":{\"outlinewidth\":0,\"ticks\":\"\"}},\"marker\":{\"colorbar\":{\"outlinewidth\":0,\"ticks\":\"\"}}}],\"scattermapbox\":[{\"type\":\"scattermapbox\",\"marker\":{\"colorbar\":{\"outlinewidth\":0,\"ticks\":\"\"}}}],\"scatterternary\":[{\"type\":\"scatterternary\",\"marker\":{\"colorbar\":{\"outlinewidth\":0,\"ticks\":\"\"}}}],\"scattercarpet\":[{\"type\":\"scattercarpet\",\"marker\":{\"colorbar\":{\"outlinewidth\":0,\"ticks\":\"\"}}}],\"carpet\":[{\"aaxis\":{\"endlinecolor\":\"#2a3f5f\",\"gridcolor\":\"white\",\"linecolor\":\"white\",\"minorgridcolor\":\"white\",\"startlinecolor\":\"#2a3f5f\"},\"baxis\":{\"endlinecolor\":\"#2a3f5f\",\"gridcolor\":\"white\",\"linecolor\":\"white\",\"minorgridcolor\":\"white\",\"startlinecolor\":\"#2a3f5f\"},\"type\":\"carpet\"}],\"table\":[{\"cells\":{\"fill\":{\"color\":\"#EBF0F8\"},\"line\":{\"color\":\"white\"}},\"header\":{\"fill\":{\"color\":\"#C8D4E3\"},\"line\":{\"color\":\"white\"}},\"type\":\"table\"}],\"barpolar\":[{\"marker\":{\"line\":{\"color\":\"#E5ECF6\",\"width\":0.5},\"pattern\":{\"fillmode\":\"overlay\",\"size\":10,\"solidity\":0.2}},\"type\":\"barpolar\"}],\"pie\":[{\"automargin\":true,\"type\":\"pie\"}]},\"layout\":{\"autotypenumbers\":\"strict\",\"colorway\":[\"#636efa\",\"#EF553B\",\"#00cc96\",\"#ab63fa\",\"#FFA15A\",\"#19d3f3\",\"#FF6692\",\"#B6E880\",\"#FF97FF\",\"#FECB52\"],\"font\":{\"color\":\"#2a3f5f\"},\"hovermode\":\"closest\",\"hoverlabel\":{\"align\":\"left\"},\"paper_bgcolor\":\"white\",\"plot_bgcolor\":\"#E5ECF6\",\"polar\":{\"bgcolor\":\"#E5ECF6\",\"angularaxis\":{\"gridcolor\":\"white\",\"linecolor\":\"white\",\"ticks\":\"\"},\"radialaxis\":{\"gridcolor\":\"white\",\"linecolor\":\"white\",\"ticks\":\"\"}},\"ternary\":{\"bgcolor\":\"#E5ECF6\",\"aaxis\":{\"gridcolor\":\"white\",\"linecolor\":\"white\",\"ticks\":\"\"},\"baxis\":{\"gridcolor\":\"white\",\"linecolor\":\"white\",\"ticks\":\"\"},\"caxis\":{\"gridcolor\":\"white\",\"linecolor\":\"white\",\"ticks\":\"\"}},\"coloraxis\":{\"colorbar\":{\"outlinewidth\":0,\"ticks\":\"\"}},\"colorscale\":{\"sequential\":[[0.0,\"#0d0887\"],[0.1111111111111111,\"#46039f\"],[0.2222222222222222,\"#7201a8\"],[0.3333333333333333,\"#9c179e\"],[0.4444444444444444,\"#bd3786\"],[0.5555555555555556,\"#d8576b\"],[0.6666666666666666,\"#ed7953\"],[0.7777777777777778,\"#fb9f3a\"],[0.8888888888888888,\"#fdca26\"],[1.0,\"#f0f921\"]],\"sequentialminus\":[[0.0,\"#0d0887\"],[0.1111111111111111,\"#46039f\"],[0.2222222222222222,\"#7201a8\"],[0.3333333333333333,\"#9c179e\"],[0.4444444444444444,\"#bd3786\"],[0.5555555555555556,\"#d8576b\"],[0.6666666666666666,\"#ed7953\"],[0.7777777777777778,\"#fb9f3a\"],[0.8888888888888888,\"#fdca26\"],[1.0,\"#f0f921\"]],\"diverging\":[[0,\"#8e0152\"],[0.1,\"#c51b7d\"],[0.2,\"#de77ae\"],[0.3,\"#f1b6da\"],[0.4,\"#fde0ef\"],[0.5,\"#f7f7f7\"],[0.6,\"#e6f5d0\"],[0.7,\"#b8e186\"],[0.8,\"#7fbc41\"],[0.9,\"#4d9221\"],[1,\"#276419\"]]},\"xaxis\":{\"gridcolor\":\"white\",\"linecolor\":\"white\",\"ticks\":\"\",\"title\":{\"standoff\":15},\"zerolinecolor\":\"white\",\"automargin\":true,\"zerolinewidth\":2},\"yaxis\":{\"gridcolor\":\"white\",\"linecolor\":\"white\",\"ticks\":\"\",\"title\":{\"standoff\":15},\"zerolinecolor\":\"white\",\"automargin\":true,\"zerolinewidth\":2},\"scene\":{\"xaxis\":{\"backgroundcolor\":\"#E5ECF6\",\"gridcolor\":\"white\",\"linecolor\":\"white\",\"showbackground\":true,\"ticks\":\"\",\"zerolinecolor\":\"white\",\"gridwidth\":2},\"yaxis\":{\"backgroundcolor\":\"#E5ECF6\",\"gridcolor\":\"white\",\"linecolor\":\"white\",\"showbackground\":true,\"ticks\":\"\",\"zerolinecolor\":\"white\",\"gridwidth\":2},\"zaxis\":{\"backgroundcolor\":\"#E5ECF6\",\"gridcolor\":\"white\",\"linecolor\":\"white\",\"showbackground\":true,\"ticks\":\"\",\"zerolinecolor\":\"white\",\"gridwidth\":2}},\"shapedefaults\":{\"line\":{\"color\":\"#2a3f5f\"}},\"annotationdefaults\":{\"arrowcolor\":\"#2a3f5f\",\"arrowhead\":0,\"arrowwidth\":1},\"geo\":{\"bgcolor\":\"white\",\"landcolor\":\"#E5ECF6\",\"subunitcolor\":\"white\",\"showland\":true,\"showlakes\":true,\"lakecolor\":\"white\"},\"title\":{\"x\":0.05},\"mapbox\":{\"style\":\"light\"}}},\"xaxis\":{\"anchor\":\"y\",\"domain\":[0.0,1.0],\"title\":{\"text\":\"country\"}},\"yaxis\":{\"anchor\":\"x\",\"domain\":[0.0,1.0],\"title\":{\"text\":\"count\"}},\"legend\":{\"tracegroupgap\":0},\"margin\":{\"t\":60},\"barmode\":\"relative\"},                        {\"responsive\": true}                    ).then(function(){\n                            \nvar gd = document.getElementById('e99fd1fa-ace1-420c-b505-87a00ad0c6f5');\nvar x = new MutationObserver(function (mutations, observer) {{\n        var display = window.getComputedStyle(gd).display;\n        if (!display || display === 'none') {{\n            console.log([gd, 'removed!']);\n            Plotly.purge(gd);\n            observer.disconnect();\n        }}\n}});\n\n// Listen for the removal of the full notebook cells\nvar notebookContainer = gd.closest('#notebook-container');\nif (notebookContainer) {{\n    x.observe(notebookContainer, {childList: true});\n}}\n\n// Listen for the clearing of the current output cell\nvar outputEl = gd.closest('.output');\nif (outputEl) {{\n    x.observe(outputEl, {childList: true});\n}}\n\n                        })                };                            </script>        </div>\n</body>\n</html>"
          },
          "metadata": {},
          "output_type": "display_data"
        }
      ],
      "execution_count": 10
    },
    {
      "cell_type": "markdown",
      "source": "## 8. Emissions by country",
      "metadata": {
        "cell_id": "541c74f20a8b4fea924866748e1627f6",
        "deepnote_cell_type": "markdown"
      }
    },
    {
      "cell_type": "markdown",
      "source": "I would like to see how many companies there are per country. \nHow does this compare to the emissions of companies reporting from each country?",
      "metadata": {
        "cell_id": "2069555214fc42b0a389971ab4c9e98b",
        "deepnote_cell_type": "markdown"
      }
    },
    {
      "cell_type": "markdown",
      "source": "**Task:**\n- Grouping by country, select `country` and the sum of total `carbon_footprint_pcf` by country, aliasing as `total_country_footprint`.\n- Create a plotly bar plot of the emissions by country in our dataset.",
      "metadata": {
        "cell_id": "367ebbf5649b4b0281741a76b005f083",
        "deepnote_cell_type": "markdown"
      }
    },
    {
      "cell_type": "code",
      "source": "emissions_country = _deepnote_execute_sql('SELECT country,\\n       ROUND(SUM(carbon_footprint_pcf),0) AS total_country_footprint\\nFROM product_emissions\\nGROUP BY country\\nORDER BY total_country_footprint DESC;', 'SQL_15CDD52D_0ED5_419C_8B5D_8ED8AADF2ABF', audit_sql_comment='')\nemissions_country",
      "metadata": {
        "cell_id": "8c56f613d41641af81c7da8b700f28b2",
        "source_hash": "58f577cf",
        "execution_start": 1685235260581,
        "execution_millis": 114,
        "sql_integration_id": "15cdd52d-0ed5-419c-8b5d-8ed8aadf2abf",
        "deepnote_variable_name": "emissions_country",
        "deepnote_to_be_reexecuted": false,
        "deepnote_cell_type": "sql",
        "deepnote_sql_source": "SELECT country,\n       ROUND(SUM(carbon_footprint_pcf),0) AS total_country_footprint\nFROM product_emissions\nGROUP BY country\nORDER BY total_country_footprint DESC;"
      },
      "outputs": [
        {
          "data": {
            "application/vnd.deepnote.sql-output-metadata+json": {
              "status": "success_no_cache",
              "size_in_bytes": 2157
            }
          },
          "metadata": {},
          "output_type": "display_data"
        },
        {
          "output_type": "execute_result",
          "execution_count": 11,
          "data": {
            "application/vnd.deepnote.dataframe.v3+json": {
              "column_count": 2,
              "row_count": 28,
              "columns": [
                {
                  "name": "country",
                  "dtype": "object",
                  "stats": {
                    "unique_count": 28,
                    "nan_count": 0,
                    "categories": [
                      {
                        "name": "Spain",
                        "count": 1
                      },
                      {
                        "name": "Germany",
                        "count": 1
                      },
                      {
                        "name": "26 others",
                        "count": 26
                      }
                    ]
                  }
                },
                {
                  "name": "total_country_footprint",
                  "dtype": "float64",
                  "stats": {
                    "unique_count": 27,
                    "nan_count": 0,
                    "min": "0.0",
                    "max": "9786126.0",
                    "histogram": [
                      {
                        "bin_start": 0,
                        "bin_end": 978612.6,
                        "count": 26
                      },
                      {
                        "bin_start": 978612.6,
                        "bin_end": 1957225.2,
                        "count": 0
                      },
                      {
                        "bin_start": 1957225.2,
                        "bin_end": 2935837.8,
                        "count": 1
                      },
                      {
                        "bin_start": 2935837.8,
                        "bin_end": 3914450.4,
                        "count": 0
                      },
                      {
                        "bin_start": 3914450.4,
                        "bin_end": 4893063,
                        "count": 0
                      },
                      {
                        "bin_start": 4893063,
                        "bin_end": 5871675.6,
                        "count": 0
                      },
                      {
                        "bin_start": 5871675.6,
                        "bin_end": 6850288.2,
                        "count": 0
                      },
                      {
                        "bin_start": 6850288.2,
                        "bin_end": 7828900.8,
                        "count": 0
                      },
                      {
                        "bin_start": 7828900.8,
                        "bin_end": 8807513.4,
                        "count": 0
                      },
                      {
                        "bin_start": 8807513.4,
                        "bin_end": 9786126,
                        "count": 1
                      }
                    ]
                  }
                },
                {
                  "name": "_deepnote_index_column",
                  "dtype": "int64"
                }
              ],
              "rows": [
                {
                  "country": "Spain",
                  "total_country_footprint": "9786126.0",
                  "_deepnote_index_column": "0"
                },
                {
                  "country": "Germany",
                  "total_country_footprint": "2251225.0",
                  "_deepnote_index_column": "1"
                },
                {
                  "country": "Japan",
                  "total_country_footprint": "519344.0",
                  "_deepnote_index_column": "2"
                },
                {
                  "country": "USA",
                  "total_country_footprint": "451869.0",
                  "_deepnote_index_column": "3"
                },
                {
                  "country": "Brazil",
                  "total_country_footprint": "167588.0",
                  "_deepnote_index_column": "4"
                },
                {
                  "country": "Luxembourg",
                  "total_country_footprint": "167007.0",
                  "_deepnote_index_column": "5"
                },
                {
                  "country": "South Korea",
                  "total_country_footprint": "140994.0",
                  "_deepnote_index_column": "6"
                },
                {
                  "country": "Netherlands",
                  "total_country_footprint": "70415.0",
                  "_deepnote_index_column": "7"
                },
                {
                  "country": "Taiwan",
                  "total_country_footprint": "61513.0",
                  "_deepnote_index_column": "8"
                },
                {
                  "country": "India",
                  "total_country_footprint": "24574.0",
                  "_deepnote_index_column": "9"
                }
              ]
            },
            "text/plain": "           country  total_country_footprint\n0            Spain                9786126.0\n1          Germany                2251225.0\n2            Japan                 519344.0\n3              USA                 451869.0\n4           Brazil                 167588.0\n5       Luxembourg                 167007.0\n6      South Korea                 140994.0\n7      Netherlands                  70415.0\n8           Taiwan                  61513.0\n9            India                  24574.0\n10         Finland                  21581.0\n11    South Africa                  12311.0\n12  United Kingdom                   6735.0\n13         Ireland                   5130.0\n14          Sweden                   4533.0\n15          France                   1614.0\n16           Chile                   1556.0\n17       Indonesia                    721.0\n18          Canada                    382.0\n19       Australia                    238.0\n20        Malaysia                    234.0\n21           China                    143.0\n22     Switzerland                    141.0\n23           Italy                     19.0\n24         Belgium                      9.0\n25          Greece                      1.0\n26       Lithuania                      0.0\n27        Colombia                      0.0",
            "text/html": "<div>\n<style scoped>\n    .dataframe tbody tr th:only-of-type {\n        vertical-align: middle;\n    }\n\n    .dataframe tbody tr th {\n        vertical-align: top;\n    }\n\n    .dataframe thead th {\n        text-align: right;\n    }\n</style>\n<table border=\"1\" class=\"dataframe\">\n  <thead>\n    <tr style=\"text-align: right;\">\n      <th></th>\n      <th>country</th>\n      <th>total_country_footprint</th>\n    </tr>\n  </thead>\n  <tbody>\n    <tr>\n      <th>0</th>\n      <td>Spain</td>\n      <td>9786126.0</td>\n    </tr>\n    <tr>\n      <th>1</th>\n      <td>Germany</td>\n      <td>2251225.0</td>\n    </tr>\n    <tr>\n      <th>2</th>\n      <td>Japan</td>\n      <td>519344.0</td>\n    </tr>\n    <tr>\n      <th>3</th>\n      <td>USA</td>\n      <td>451869.0</td>\n    </tr>\n    <tr>\n      <th>4</th>\n      <td>Brazil</td>\n      <td>167588.0</td>\n    </tr>\n    <tr>\n      <th>5</th>\n      <td>Luxembourg</td>\n      <td>167007.0</td>\n    </tr>\n    <tr>\n      <th>6</th>\n      <td>South Korea</td>\n      <td>140994.0</td>\n    </tr>\n    <tr>\n      <th>7</th>\n      <td>Netherlands</td>\n      <td>70415.0</td>\n    </tr>\n    <tr>\n      <th>8</th>\n      <td>Taiwan</td>\n      <td>61513.0</td>\n    </tr>\n    <tr>\n      <th>9</th>\n      <td>India</td>\n      <td>24574.0</td>\n    </tr>\n    <tr>\n      <th>10</th>\n      <td>Finland</td>\n      <td>21581.0</td>\n    </tr>\n    <tr>\n      <th>11</th>\n      <td>South Africa</td>\n      <td>12311.0</td>\n    </tr>\n    <tr>\n      <th>12</th>\n      <td>United Kingdom</td>\n      <td>6735.0</td>\n    </tr>\n    <tr>\n      <th>13</th>\n      <td>Ireland</td>\n      <td>5130.0</td>\n    </tr>\n    <tr>\n      <th>14</th>\n      <td>Sweden</td>\n      <td>4533.0</td>\n    </tr>\n    <tr>\n      <th>15</th>\n      <td>France</td>\n      <td>1614.0</td>\n    </tr>\n    <tr>\n      <th>16</th>\n      <td>Chile</td>\n      <td>1556.0</td>\n    </tr>\n    <tr>\n      <th>17</th>\n      <td>Indonesia</td>\n      <td>721.0</td>\n    </tr>\n    <tr>\n      <th>18</th>\n      <td>Canada</td>\n      <td>382.0</td>\n    </tr>\n    <tr>\n      <th>19</th>\n      <td>Australia</td>\n      <td>238.0</td>\n    </tr>\n    <tr>\n      <th>20</th>\n      <td>Malaysia</td>\n      <td>234.0</td>\n    </tr>\n    <tr>\n      <th>21</th>\n      <td>China</td>\n      <td>143.0</td>\n    </tr>\n    <tr>\n      <th>22</th>\n      <td>Switzerland</td>\n      <td>141.0</td>\n    </tr>\n    <tr>\n      <th>23</th>\n      <td>Italy</td>\n      <td>19.0</td>\n    </tr>\n    <tr>\n      <th>24</th>\n      <td>Belgium</td>\n      <td>9.0</td>\n    </tr>\n    <tr>\n      <th>25</th>\n      <td>Greece</td>\n      <td>1.0</td>\n    </tr>\n    <tr>\n      <th>26</th>\n      <td>Lithuania</td>\n      <td>0.0</td>\n    </tr>\n    <tr>\n      <th>27</th>\n      <td>Colombia</td>\n      <td>0.0</td>\n    </tr>\n  </tbody>\n</table>\n</div>"
          },
          "metadata": {}
        }
      ],
      "execution_count": 11
    },
    {
      "cell_type": "code",
      "source": "px.bar(emissions_country, x=\"country\", y= \"total_country_footprint\")",
      "metadata": {
        "cell_id": "0b644684f468484aa1ce2287725d181a",
        "source_hash": "32f5df9c",
        "execution_start": 1685235260737,
        "execution_millis": 109,
        "deepnote_to_be_reexecuted": false,
        "deepnote_cell_type": "code"
      },
      "outputs": [
        {
          "data": {
            "text/html": "<html>\n<head><meta charset=\"utf-8\" /></head>\n<body>\n    <div>            <script src=\"https://cdnjs.cloudflare.com/ajax/libs/mathjax/2.7.5/MathJax.js?config=TeX-AMS-MML_SVG\"></script><script type=\"text/javascript\">if (window.MathJax && window.MathJax.Hub && window.MathJax.Hub.Config) {window.MathJax.Hub.Config({SVG: {font: \"STIX-Web\"}});}</script>                <script type=\"text/javascript\">window.PlotlyConfig = {MathJaxConfig: 'local'};</script>\n        <script src=\"https://cdn.plot.ly/plotly-2.14.0.min.js\"></script>                <div id=\"169f803e-d883-4412-88c8-ab88a6228588\" class=\"plotly-graph-div\" style=\"height:525px; width:100%;\"></div>            <script type=\"text/javascript\">                                    window.PLOTLYENV=window.PLOTLYENV || {};                                    if (document.getElementById(\"169f803e-d883-4412-88c8-ab88a6228588\")) {                    Plotly.newPlot(                        \"169f803e-d883-4412-88c8-ab88a6228588\",                        [{\"alignmentgroup\":\"True\",\"hovertemplate\":\"country=%{x}<br>total_country_footprint=%{y}<extra></extra>\",\"legendgroup\":\"\",\"marker\":{\"color\":\"#636efa\",\"pattern\":{\"shape\":\"\"}},\"name\":\"\",\"offsetgroup\":\"\",\"orientation\":\"v\",\"showlegend\":false,\"textposition\":\"auto\",\"x\":[\"Spain\",\"Germany\",\"Japan\",\"USA\",\"Brazil\",\"Luxembourg\",\"South Korea\",\"Netherlands\",\"Taiwan\",\"India\",\"Finland\",\"South Africa\",\"United Kingdom\",\"Ireland\",\"Sweden\",\"France\",\"Chile\",\"Indonesia\",\"Canada\",\"Australia\",\"Malaysia\",\"China\",\"Switzerland\",\"Italy\",\"Belgium\",\"Greece\",\"Lithuania\",\"Colombia\"],\"xaxis\":\"x\",\"y\":[9786126.0,2251225.0,519344.0,451869.0,167588.0,167007.0,140994.0,70415.0,61513.0,24574.0,21581.0,12311.0,6735.0,5130.0,4533.0,1614.0,1556.0,721.0,382.0,238.0,234.0,143.0,141.0,19.0,9.0,1.0,0.0,0.0],\"yaxis\":\"y\",\"type\":\"bar\"}],                        {\"template\":{\"data\":{\"histogram2dcontour\":[{\"type\":\"histogram2dcontour\",\"colorbar\":{\"outlinewidth\":0,\"ticks\":\"\"},\"colorscale\":[[0.0,\"#0d0887\"],[0.1111111111111111,\"#46039f\"],[0.2222222222222222,\"#7201a8\"],[0.3333333333333333,\"#9c179e\"],[0.4444444444444444,\"#bd3786\"],[0.5555555555555556,\"#d8576b\"],[0.6666666666666666,\"#ed7953\"],[0.7777777777777778,\"#fb9f3a\"],[0.8888888888888888,\"#fdca26\"],[1.0,\"#f0f921\"]]}],\"choropleth\":[{\"type\":\"choropleth\",\"colorbar\":{\"outlinewidth\":0,\"ticks\":\"\"}}],\"histogram2d\":[{\"type\":\"histogram2d\",\"colorbar\":{\"outlinewidth\":0,\"ticks\":\"\"},\"colorscale\":[[0.0,\"#0d0887\"],[0.1111111111111111,\"#46039f\"],[0.2222222222222222,\"#7201a8\"],[0.3333333333333333,\"#9c179e\"],[0.4444444444444444,\"#bd3786\"],[0.5555555555555556,\"#d8576b\"],[0.6666666666666666,\"#ed7953\"],[0.7777777777777778,\"#fb9f3a\"],[0.8888888888888888,\"#fdca26\"],[1.0,\"#f0f921\"]]}],\"heatmap\":[{\"type\":\"heatmap\",\"colorbar\":{\"outlinewidth\":0,\"ticks\":\"\"},\"colorscale\":[[0.0,\"#0d0887\"],[0.1111111111111111,\"#46039f\"],[0.2222222222222222,\"#7201a8\"],[0.3333333333333333,\"#9c179e\"],[0.4444444444444444,\"#bd3786\"],[0.5555555555555556,\"#d8576b\"],[0.6666666666666666,\"#ed7953\"],[0.7777777777777778,\"#fb9f3a\"],[0.8888888888888888,\"#fdca26\"],[1.0,\"#f0f921\"]]}],\"heatmapgl\":[{\"type\":\"heatmapgl\",\"colorbar\":{\"outlinewidth\":0,\"ticks\":\"\"},\"colorscale\":[[0.0,\"#0d0887\"],[0.1111111111111111,\"#46039f\"],[0.2222222222222222,\"#7201a8\"],[0.3333333333333333,\"#9c179e\"],[0.4444444444444444,\"#bd3786\"],[0.5555555555555556,\"#d8576b\"],[0.6666666666666666,\"#ed7953\"],[0.7777777777777778,\"#fb9f3a\"],[0.8888888888888888,\"#fdca26\"],[1.0,\"#f0f921\"]]}],\"contourcarpet\":[{\"type\":\"contourcarpet\",\"colorbar\":{\"outlinewidth\":0,\"ticks\":\"\"}}],\"contour\":[{\"type\":\"contour\",\"colorbar\":{\"outlinewidth\":0,\"ticks\":\"\"},\"colorscale\":[[0.0,\"#0d0887\"],[0.1111111111111111,\"#46039f\"],[0.2222222222222222,\"#7201a8\"],[0.3333333333333333,\"#9c179e\"],[0.4444444444444444,\"#bd3786\"],[0.5555555555555556,\"#d8576b\"],[0.6666666666666666,\"#ed7953\"],[0.7777777777777778,\"#fb9f3a\"],[0.8888888888888888,\"#fdca26\"],[1.0,\"#f0f921\"]]}],\"surface\":[{\"type\":\"surface\",\"colorbar\":{\"outlinewidth\":0,\"ticks\":\"\"},\"colorscale\":[[0.0,\"#0d0887\"],[0.1111111111111111,\"#46039f\"],[0.2222222222222222,\"#7201a8\"],[0.3333333333333333,\"#9c179e\"],[0.4444444444444444,\"#bd3786\"],[0.5555555555555556,\"#d8576b\"],[0.6666666666666666,\"#ed7953\"],[0.7777777777777778,\"#fb9f3a\"],[0.8888888888888888,\"#fdca26\"],[1.0,\"#f0f921\"]]}],\"mesh3d\":[{\"type\":\"mesh3d\",\"colorbar\":{\"outlinewidth\":0,\"ticks\":\"\"}}],\"scatter\":[{\"fillpattern\":{\"fillmode\":\"overlay\",\"size\":10,\"solidity\":0.2},\"type\":\"scatter\"}],\"parcoords\":[{\"type\":\"parcoords\",\"line\":{\"colorbar\":{\"outlinewidth\":0,\"ticks\":\"\"}}}],\"scatterpolargl\":[{\"type\":\"scatterpolargl\",\"marker\":{\"colorbar\":{\"outlinewidth\":0,\"ticks\":\"\"}}}],\"bar\":[{\"error_x\":{\"color\":\"#2a3f5f\"},\"error_y\":{\"color\":\"#2a3f5f\"},\"marker\":{\"line\":{\"color\":\"#E5ECF6\",\"width\":0.5},\"pattern\":{\"fillmode\":\"overlay\",\"size\":10,\"solidity\":0.2}},\"type\":\"bar\"}],\"scattergeo\":[{\"type\":\"scattergeo\",\"marker\":{\"colorbar\":{\"outlinewidth\":0,\"ticks\":\"\"}}}],\"scatterpolar\":[{\"type\":\"scatterpolar\",\"marker\":{\"colorbar\":{\"outlinewidth\":0,\"ticks\":\"\"}}}],\"histogram\":[{\"marker\":{\"pattern\":{\"fillmode\":\"overlay\",\"size\":10,\"solidity\":0.2}},\"type\":\"histogram\"}],\"scattergl\":[{\"type\":\"scattergl\",\"marker\":{\"colorbar\":{\"outlinewidth\":0,\"ticks\":\"\"}}}],\"scatter3d\":[{\"type\":\"scatter3d\",\"line\":{\"colorbar\":{\"outlinewidth\":0,\"ticks\":\"\"}},\"marker\":{\"colorbar\":{\"outlinewidth\":0,\"ticks\":\"\"}}}],\"scattermapbox\":[{\"type\":\"scattermapbox\",\"marker\":{\"colorbar\":{\"outlinewidth\":0,\"ticks\":\"\"}}}],\"scatterternary\":[{\"type\":\"scatterternary\",\"marker\":{\"colorbar\":{\"outlinewidth\":0,\"ticks\":\"\"}}}],\"scattercarpet\":[{\"type\":\"scattercarpet\",\"marker\":{\"colorbar\":{\"outlinewidth\":0,\"ticks\":\"\"}}}],\"carpet\":[{\"aaxis\":{\"endlinecolor\":\"#2a3f5f\",\"gridcolor\":\"white\",\"linecolor\":\"white\",\"minorgridcolor\":\"white\",\"startlinecolor\":\"#2a3f5f\"},\"baxis\":{\"endlinecolor\":\"#2a3f5f\",\"gridcolor\":\"white\",\"linecolor\":\"white\",\"minorgridcolor\":\"white\",\"startlinecolor\":\"#2a3f5f\"},\"type\":\"carpet\"}],\"table\":[{\"cells\":{\"fill\":{\"color\":\"#EBF0F8\"},\"line\":{\"color\":\"white\"}},\"header\":{\"fill\":{\"color\":\"#C8D4E3\"},\"line\":{\"color\":\"white\"}},\"type\":\"table\"}],\"barpolar\":[{\"marker\":{\"line\":{\"color\":\"#E5ECF6\",\"width\":0.5},\"pattern\":{\"fillmode\":\"overlay\",\"size\":10,\"solidity\":0.2}},\"type\":\"barpolar\"}],\"pie\":[{\"automargin\":true,\"type\":\"pie\"}]},\"layout\":{\"autotypenumbers\":\"strict\",\"colorway\":[\"#636efa\",\"#EF553B\",\"#00cc96\",\"#ab63fa\",\"#FFA15A\",\"#19d3f3\",\"#FF6692\",\"#B6E880\",\"#FF97FF\",\"#FECB52\"],\"font\":{\"color\":\"#2a3f5f\"},\"hovermode\":\"closest\",\"hoverlabel\":{\"align\":\"left\"},\"paper_bgcolor\":\"white\",\"plot_bgcolor\":\"#E5ECF6\",\"polar\":{\"bgcolor\":\"#E5ECF6\",\"angularaxis\":{\"gridcolor\":\"white\",\"linecolor\":\"white\",\"ticks\":\"\"},\"radialaxis\":{\"gridcolor\":\"white\",\"linecolor\":\"white\",\"ticks\":\"\"}},\"ternary\":{\"bgcolor\":\"#E5ECF6\",\"aaxis\":{\"gridcolor\":\"white\",\"linecolor\":\"white\",\"ticks\":\"\"},\"baxis\":{\"gridcolor\":\"white\",\"linecolor\":\"white\",\"ticks\":\"\"},\"caxis\":{\"gridcolor\":\"white\",\"linecolor\":\"white\",\"ticks\":\"\"}},\"coloraxis\":{\"colorbar\":{\"outlinewidth\":0,\"ticks\":\"\"}},\"colorscale\":{\"sequential\":[[0.0,\"#0d0887\"],[0.1111111111111111,\"#46039f\"],[0.2222222222222222,\"#7201a8\"],[0.3333333333333333,\"#9c179e\"],[0.4444444444444444,\"#bd3786\"],[0.5555555555555556,\"#d8576b\"],[0.6666666666666666,\"#ed7953\"],[0.7777777777777778,\"#fb9f3a\"],[0.8888888888888888,\"#fdca26\"],[1.0,\"#f0f921\"]],\"sequentialminus\":[[0.0,\"#0d0887\"],[0.1111111111111111,\"#46039f\"],[0.2222222222222222,\"#7201a8\"],[0.3333333333333333,\"#9c179e\"],[0.4444444444444444,\"#bd3786\"],[0.5555555555555556,\"#d8576b\"],[0.6666666666666666,\"#ed7953\"],[0.7777777777777778,\"#fb9f3a\"],[0.8888888888888888,\"#fdca26\"],[1.0,\"#f0f921\"]],\"diverging\":[[0,\"#8e0152\"],[0.1,\"#c51b7d\"],[0.2,\"#de77ae\"],[0.3,\"#f1b6da\"],[0.4,\"#fde0ef\"],[0.5,\"#f7f7f7\"],[0.6,\"#e6f5d0\"],[0.7,\"#b8e186\"],[0.8,\"#7fbc41\"],[0.9,\"#4d9221\"],[1,\"#276419\"]]},\"xaxis\":{\"gridcolor\":\"white\",\"linecolor\":\"white\",\"ticks\":\"\",\"title\":{\"standoff\":15},\"zerolinecolor\":\"white\",\"automargin\":true,\"zerolinewidth\":2},\"yaxis\":{\"gridcolor\":\"white\",\"linecolor\":\"white\",\"ticks\":\"\",\"title\":{\"standoff\":15},\"zerolinecolor\":\"white\",\"automargin\":true,\"zerolinewidth\":2},\"scene\":{\"xaxis\":{\"backgroundcolor\":\"#E5ECF6\",\"gridcolor\":\"white\",\"linecolor\":\"white\",\"showbackground\":true,\"ticks\":\"\",\"zerolinecolor\":\"white\",\"gridwidth\":2},\"yaxis\":{\"backgroundcolor\":\"#E5ECF6\",\"gridcolor\":\"white\",\"linecolor\":\"white\",\"showbackground\":true,\"ticks\":\"\",\"zerolinecolor\":\"white\",\"gridwidth\":2},\"zaxis\":{\"backgroundcolor\":\"#E5ECF6\",\"gridcolor\":\"white\",\"linecolor\":\"white\",\"showbackground\":true,\"ticks\":\"\",\"zerolinecolor\":\"white\",\"gridwidth\":2}},\"shapedefaults\":{\"line\":{\"color\":\"#2a3f5f\"}},\"annotationdefaults\":{\"arrowcolor\":\"#2a3f5f\",\"arrowhead\":0,\"arrowwidth\":1},\"geo\":{\"bgcolor\":\"white\",\"landcolor\":\"#E5ECF6\",\"subunitcolor\":\"white\",\"showland\":true,\"showlakes\":true,\"lakecolor\":\"white\"},\"title\":{\"x\":0.05},\"mapbox\":{\"style\":\"light\"}}},\"xaxis\":{\"anchor\":\"y\",\"domain\":[0.0,1.0],\"title\":{\"text\":\"country\"}},\"yaxis\":{\"anchor\":\"x\",\"domain\":[0.0,1.0],\"title\":{\"text\":\"total_country_footprint\"}},\"legend\":{\"tracegroupgap\":0},\"margin\":{\"t\":60},\"barmode\":\"relative\"},                        {\"responsive\": true}                    ).then(function(){\n                            \nvar gd = document.getElementById('169f803e-d883-4412-88c8-ab88a6228588');\nvar x = new MutationObserver(function (mutations, observer) {{\n        var display = window.getComputedStyle(gd).display;\n        if (!display || display === 'none') {{\n            console.log([gd, 'removed!']);\n            Plotly.purge(gd);\n            observer.disconnect();\n        }}\n}});\n\n// Listen for the removal of the full notebook cells\nvar notebookContainer = gd.closest('#notebook-container');\nif (notebookContainer) {{\n    x.observe(notebookContainer, {childList: true});\n}}\n\n// Listen for the clearing of the current output cell\nvar outputEl = gd.closest('.output');\nif (outputEl) {{\n    x.observe(outputEl, {childList: true});\n}}\n\n                        })                };                            </script>        </div>\n</body>\n</html>"
          },
          "metadata": {},
          "output_type": "display_data"
        }
      ],
      "execution_count": 12
    },
    {
      "cell_type": "markdown",
      "source": "## 9. Does the graph above make sense?",
      "metadata": {
        "cell_id": "1c99dd1b5b614ab6a7dafff197a8a8f2",
        "deepnote_cell_type": "markdown"
      }
    },
    {
      "cell_type": "markdown",
      "source": "Spain has A LOT of emissions, but, why? Where do they come from? Which company is producing so many emissions?",
      "metadata": {
        "cell_id": "8875734a1a394dbd959831d5749e1cd0",
        "deepnote_cell_type": "markdown"
      }
    },
    {
      "cell_type": "markdown",
      "source": "**Task:**\n- Select `company` and `carbon_footprint_pcf` for companies in Spain.",
      "metadata": {
        "cell_id": "3f3574a3296d4d67b966c7be222d91b8",
        "deepnote_cell_type": "markdown"
      }
    },
    {
      "cell_type": "code",
      "source": "df_10 = _deepnote_execute_sql('SELECT company, carbon_footprint_pcf\\nFROM product_emissions\\nWHERE country = \\'Spain\\'\\nORDER BY carbon_footprint_pcf DESC;', 'SQL_15CDD52D_0ED5_419C_8B5D_8ED8AADF2ABF', audit_sql_comment='')\ndf_10",
      "metadata": {
        "cell_id": "923ce88c854e4a71924b74eac6490e24",
        "source_hash": "b0b06446",
        "execution_start": 1685235348795,
        "execution_millis": 113,
        "sql_integration_id": "15cdd52d-0ed5-419c-8b5d-8ed8aadf2abf",
        "deepnote_table_state": {
          "sortBy": [],
          "filters": [],
          "pageSize": 10,
          "pageIndex": 0
        },
        "deepnote_table_loading": false,
        "deepnote_variable_name": "df_10",
        "deepnote_to_be_reexecuted": false,
        "deepnote_cell_type": "sql",
        "deepnote_sql_source": "SELECT company, carbon_footprint_pcf\nFROM product_emissions\nWHERE country = 'Spain'\nORDER BY carbon_footprint_pcf DESC;"
      },
      "outputs": [
        {
          "data": {
            "application/vnd.deepnote.sql-output-metadata+json": {
              "status": "success_no_cache",
              "size_in_bytes": 1402
            }
          },
          "metadata": {},
          "output_type": "display_data"
        },
        {
          "output_type": "execute_result",
          "execution_count": 14,
          "data": {
            "application/vnd.deepnote.dataframe.v3+json": {
              "column_count": 2,
              "row_count": 13,
              "columns": [
                {
                  "name": "company",
                  "dtype": "object",
                  "stats": {
                    "unique_count": 5,
                    "nan_count": 0,
                    "categories": [
                      {
                        "name": "Gamesa Corporación Tecnológica, S.A.",
                        "count": 4
                      },
                      {
                        "name": "Agraz",
                        "count": 4
                      },
                      {
                        "name": "3 others",
                        "count": 5
                      }
                    ]
                  }
                },
                {
                  "name": "carbon_footprint_pcf",
                  "dtype": "float64",
                  "stats": {
                    "unique_count": 13,
                    "nan_count": 0,
                    "min": "3.0",
                    "max": "3718044.0",
                    "histogram": [
                      {
                        "bin_start": 3,
                        "bin_end": 371807.1,
                        "count": 9
                      },
                      {
                        "bin_start": 371807.1,
                        "bin_end": 743611.2,
                        "count": 0
                      },
                      {
                        "bin_start": 743611.2,
                        "bin_end": 1115415.2999999998,
                        "count": 0
                      },
                      {
                        "bin_start": 1115415.2999999998,
                        "bin_end": 1487219.4,
                        "count": 1
                      },
                      {
                        "bin_start": 1487219.4,
                        "bin_end": 1859023.5,
                        "count": 1
                      },
                      {
                        "bin_start": 1859023.5,
                        "bin_end": 2230827.5999999996,
                        "count": 0
                      },
                      {
                        "bin_start": 2230827.5999999996,
                        "bin_end": 2602631.6999999997,
                        "count": 0
                      },
                      {
                        "bin_start": 2602631.6999999997,
                        "bin_end": 2974435.8,
                        "count": 0
                      },
                      {
                        "bin_start": 2974435.8,
                        "bin_end": 3346239.9,
                        "count": 1
                      },
                      {
                        "bin_start": 3346239.9,
                        "bin_end": 3718044,
                        "count": 1
                      }
                    ]
                  }
                },
                {
                  "name": "_deepnote_index_column",
                  "dtype": "int64"
                }
              ],
              "rows": [
                {
                  "company": "Gamesa Corporación Tecnológica, S.A.",
                  "carbon_footprint_pcf": "3718044.0",
                  "_deepnote_index_column": "0"
                },
                {
                  "company": "Gamesa Corporación Tecnológica, S.A.",
                  "carbon_footprint_pcf": "3276187.0",
                  "_deepnote_index_column": "1"
                },
                {
                  "company": "Gamesa Corporación Tecnológica, S.A.",
                  "carbon_footprint_pcf": "1532608.0",
                  "_deepnote_index_column": "2"
                },
                {
                  "company": "Gamesa Corporación Tecnológica, S.A.",
                  "carbon_footprint_pcf": "1251625.0",
                  "_deepnote_index_column": "3"
                },
                {
                  "company": "Compañía Española de Petróleos, S.A.U. CEPSA",
                  "carbon_footprint_pcf": "6109.0",
                  "_deepnote_index_column": "4"
                },
                {
                  "company": "Compañía Española de Petróleos, S.A.U. CEPSA",
                  "carbon_footprint_pcf": "890.0",
                  "_deepnote_index_column": "5"
                },
                {
                  "company": "Crimidesa",
                  "carbon_footprint_pcf": "180.0",
                  "_deepnote_index_column": "6"
                },
                {
                  "company": "Agraz",
                  "carbon_footprint_pcf": "155.78",
                  "_deepnote_index_column": "7"
                },
                {
                  "company": "Agraz",
                  "carbon_footprint_pcf": "155.71",
                  "_deepnote_index_column": "8"
                },
                {
                  "company": "Crimidesa",
                  "carbon_footprint_pcf": "140.0",
                  "_deepnote_index_column": "9"
                }
              ]
            },
            "text/plain": "                                         company  carbon_footprint_pcf\n0           Gamesa Corporación Tecnológica, S.A.            3718044.00\n1           Gamesa Corporación Tecnológica, S.A.            3276187.00\n2           Gamesa Corporación Tecnológica, S.A.            1532608.00\n3           Gamesa Corporación Tecnológica, S.A.            1251625.00\n4   Compañía Española de Petróleos, S.A.U. CEPSA               6109.00\n5   Compañía Española de Petróleos, S.A.U. CEPSA                890.00\n6                                      Crimidesa                180.00\n7                                          Agraz                155.78\n8                                          Agraz                155.71\n9                                      Crimidesa                140.00\n10                                         Agraz                 16.22\n11                                         Agraz                 12.52\n12                               Miquel Y Costas                  3.00",
            "text/html": "<div>\n<style scoped>\n    .dataframe tbody tr th:only-of-type {\n        vertical-align: middle;\n    }\n\n    .dataframe tbody tr th {\n        vertical-align: top;\n    }\n\n    .dataframe thead th {\n        text-align: right;\n    }\n</style>\n<table border=\"1\" class=\"dataframe\">\n  <thead>\n    <tr style=\"text-align: right;\">\n      <th></th>\n      <th>company</th>\n      <th>carbon_footprint_pcf</th>\n    </tr>\n  </thead>\n  <tbody>\n    <tr>\n      <th>0</th>\n      <td>Gamesa Corporación Tecnológica, S.A.</td>\n      <td>3718044.00</td>\n    </tr>\n    <tr>\n      <th>1</th>\n      <td>Gamesa Corporación Tecnológica, S.A.</td>\n      <td>3276187.00</td>\n    </tr>\n    <tr>\n      <th>2</th>\n      <td>Gamesa Corporación Tecnológica, S.A.</td>\n      <td>1532608.00</td>\n    </tr>\n    <tr>\n      <th>3</th>\n      <td>Gamesa Corporación Tecnológica, S.A.</td>\n      <td>1251625.00</td>\n    </tr>\n    <tr>\n      <th>4</th>\n      <td>Compañía Española de Petróleos, S.A.U. CEPSA</td>\n      <td>6109.00</td>\n    </tr>\n    <tr>\n      <th>5</th>\n      <td>Compañía Española de Petróleos, S.A.U. CEPSA</td>\n      <td>890.00</td>\n    </tr>\n    <tr>\n      <th>6</th>\n      <td>Crimidesa</td>\n      <td>180.00</td>\n    </tr>\n    <tr>\n      <th>7</th>\n      <td>Agraz</td>\n      <td>155.78</td>\n    </tr>\n    <tr>\n      <th>8</th>\n      <td>Agraz</td>\n      <td>155.71</td>\n    </tr>\n    <tr>\n      <th>9</th>\n      <td>Crimidesa</td>\n      <td>140.00</td>\n    </tr>\n    <tr>\n      <th>10</th>\n      <td>Agraz</td>\n      <td>16.22</td>\n    </tr>\n    <tr>\n      <th>11</th>\n      <td>Agraz</td>\n      <td>12.52</td>\n    </tr>\n    <tr>\n      <th>12</th>\n      <td>Miquel Y Costas</td>\n      <td>3.00</td>\n    </tr>\n  </tbody>\n</table>\n</div>"
          },
          "metadata": {}
        }
      ],
      "execution_count": 14
    },
    {
      "cell_type": "markdown",
      "source": "Interestingly, when I search about 'Gamesa Corporación Tecnológica, S.A.' on the Internet, I find that is a renewable energy company specializing in wind power! \n",
      "metadata": {
        "cell_id": "f019a977f8f1467aa3bbb55642941f08",
        "deepnote_cell_type": "markdown"
      }
    },
    {
      "cell_type": "markdown",
      "source": "<a style='text-decoration:none;line-height:16px;display:flex;color:#5B5B62;padding:10px;justify-content:end;' href='https://deepnote.com?utm_source=created-in-deepnote-cell&projectId=b404569c-403c-4fd9-9555-c50245df8fd1' target=\"_blank\">\n<img alt='Created in deepnote.com' style='display:inline;max-height:16px;margin:0px;margin-right:7.5px;' src='data:image/svg+xml;base64,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' > </img>\nCreated in <span style='font-weight:600;margin-left:4px;'>Deepnote</span></a>",
      "metadata": {
        "created_in_deepnote_cell": true,
        "deepnote_cell_type": "markdown"
      }
    }
  ],
  "nbformat": 4,
  "nbformat_minor": 0,
  "metadata": {
    "deepnote": {},
    "orig_nbformat": 2,
    "deepnote_notebook_id": "87c3b44f3a9745a2aeba39b60ba6ffe7",
    "deepnote_persisted_session": {
      "createdAt": "2023-05-28T00:46:35.343Z"
    },
    "deepnote_execution_queue": []
  }
}